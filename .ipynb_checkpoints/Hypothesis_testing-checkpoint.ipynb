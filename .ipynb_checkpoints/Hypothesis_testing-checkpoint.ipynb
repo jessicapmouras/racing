{
 "cells": [
  {
   "cell_type": "code",
   "execution_count": 1,
   "metadata": {},
   "outputs": [],
   "source": [
    "%matplotlib inline\n",
    "import math\n",
    "import pandas as pd\n",
    "import numpy as np\n",
    "import seaborn as sns\n",
    "import scipy as stats\n",
    "import matplotlib.pyplot as plt\n",
    "from scipy import stats\n",
    "from statsmodels.stats.power import TTestIndPower\n",
    "\n",
    "import nbimporter\n",
    "from helper import *"
   ]
  },
  {
   "cell_type": "code",
   "execution_count": 2,
   "metadata": {},
   "outputs": [],
   "source": [
    "#import csv data \n",
    "races = pd.read_csv('src/races.csv')\n",
    "runs = pd.read_csv('src/runs.csv')"
   ]
  },
  {
   "cell_type": "code",
   "execution_count": 3,
   "metadata": {},
   "outputs": [
    {
     "data": {
      "text/plain": [
       "race_id                0\n",
       "horse_no               0\n",
       "horse_id               0\n",
       "result                 0\n",
       "won                    0\n",
       "lengths_behind         0\n",
       "horse_age              0\n",
       "horse_country          2\n",
       "horse_type             2\n",
       "horse_rating           0\n",
       "horse_gear             0\n",
       "declared_weight        0\n",
       "actual_weight          0\n",
       "draw                   0\n",
       "position_sec1          0\n",
       "position_sec2          0\n",
       "position_sec3          0\n",
       "position_sec4      33221\n",
       "position_sec5      69368\n",
       "position_sec6      78151\n",
       "behind_sec1            0\n",
       "behind_sec2            0\n",
       "behind_sec3            0\n",
       "behind_sec4        33221\n",
       "behind_sec5        69368\n",
       "behind_sec6        78151\n",
       "time1                  0\n",
       "time2                  0\n",
       "time3                  0\n",
       "time4                  0\n",
       "time5                  0\n",
       "time6                  0\n",
       "finish_time            0\n",
       "win_odds               0\n",
       "place_odds          3735\n",
       "trainer_id             0\n",
       "jockey_id              0\n",
       "dtype: int64"
      ]
     },
     "execution_count": 3,
     "metadata": {},
     "output_type": "execute_result"
    }
   ],
   "source": [
    "# fill in 0's for NaN values in times for non-existent portions of race\n",
    "runs['time4'].fillna(0, inplace=True)\n",
    "runs['time5'].fillna(0, inplace=True)\n",
    "runs['time6'].fillna(0, inplace=True)\n",
    "\n",
    "#check to see if fill in worked\n",
    "runs.isnull().sum(axis = 0)"
   ]
  },
  {
   "cell_type": "code",
   "execution_count": 4,
   "metadata": {},
   "outputs": [],
   "source": [
    "#narrow down focus of columns/ features from run data desired to analyze\n",
    "\n",
    "runs_data = runs[['race_id', 'won', 'horse_age', 'horse_country', 'horse_type', 'horse_rating',\n",
    "       'horse_gear', 'declared_weight', 'actual_weight', 'draw', 'win_odds',\n",
    "       'place_odds','time1', 'time2', 'time3', 'time4', 'time5', 'time6', 'horse_id']]\n",
    "# runs_data.head()"
   ]
  },
  {
   "cell_type": "code",
   "execution_count": 5,
   "metadata": {},
   "outputs": [],
   "source": [
    "#narrow down focus of columns/ features from races data desired to analyze\n",
    "races_data = races[['race_id', 'date', 'venue', 'race_no', 'config', 'surface', 'distance',\n",
    "       'going', 'horse_ratings', 'prize', 'race_class']]\n",
    "# races_data.head()"
   ]
  },
  {
   "cell_type": "code",
   "execution_count": 6,
   "metadata": {},
   "outputs": [
    {
     "data": {
      "text/html": [
       "<div>\n",
       "<style scoped>\n",
       "    .dataframe tbody tr th:only-of-type {\n",
       "        vertical-align: middle;\n",
       "    }\n",
       "\n",
       "    .dataframe tbody tr th {\n",
       "        vertical-align: top;\n",
       "    }\n",
       "\n",
       "    .dataframe thead th {\n",
       "        text-align: right;\n",
       "    }\n",
       "</style>\n",
       "<table border=\"1\" class=\"dataframe\">\n",
       "  <thead>\n",
       "    <tr style=\"text-align: right;\">\n",
       "      <th></th>\n",
       "      <th>race_id</th>\n",
       "      <th>won</th>\n",
       "      <th>horse_age</th>\n",
       "      <th>horse_rating</th>\n",
       "      <th>declared_weight</th>\n",
       "      <th>actual_weight</th>\n",
       "      <th>draw</th>\n",
       "      <th>win_odds</th>\n",
       "      <th>place_odds</th>\n",
       "      <th>time1</th>\n",
       "      <th>...</th>\n",
       "      <th>time3</th>\n",
       "      <th>time4</th>\n",
       "      <th>time5</th>\n",
       "      <th>time6</th>\n",
       "      <th>horse_id</th>\n",
       "      <th>race_no</th>\n",
       "      <th>surface</th>\n",
       "      <th>distance</th>\n",
       "      <th>prize</th>\n",
       "      <th>race_class</th>\n",
       "    </tr>\n",
       "  </thead>\n",
       "  <tbody>\n",
       "    <tr>\n",
       "      <th>count</th>\n",
       "      <td>79447.000000</td>\n",
       "      <td>79447.000000</td>\n",
       "      <td>79447.000000</td>\n",
       "      <td>79447.000000</td>\n",
       "      <td>79447.000000</td>\n",
       "      <td>79447.000000</td>\n",
       "      <td>79447.000000</td>\n",
       "      <td>79447.000000</td>\n",
       "      <td>75712.000000</td>\n",
       "      <td>79447.000000</td>\n",
       "      <td>...</td>\n",
       "      <td>79447.000000</td>\n",
       "      <td>79447.000000</td>\n",
       "      <td>79447.000000</td>\n",
       "      <td>79447.000000</td>\n",
       "      <td>79447.000000</td>\n",
       "      <td>79447.000000</td>\n",
       "      <td>79447.000000</td>\n",
       "      <td>79447.000000</td>\n",
       "      <td>7.359800e+04</td>\n",
       "      <td>79447.000000</td>\n",
       "    </tr>\n",
       "    <tr>\n",
       "      <th>mean</th>\n",
       "      <td>3173.352814</td>\n",
       "      <td>0.080053</td>\n",
       "      <td>3.339346</td>\n",
       "      <td>61.034904</td>\n",
       "      <td>1104.953568</td>\n",
       "      <td>122.729656</td>\n",
       "      <td>6.876005</td>\n",
       "      <td>28.812977</td>\n",
       "      <td>7.423177</td>\n",
       "      <td>21.135438</td>\n",
       "      <td>...</td>\n",
       "      <td>23.864054</td>\n",
       "      <td>13.987405</td>\n",
       "      <td>3.058096</td>\n",
       "      <td>0.397219</td>\n",
       "      <td>2204.410525</td>\n",
       "      <td>5.280086</td>\n",
       "      <td>0.108865</td>\n",
       "      <td>1419.195816</td>\n",
       "      <td>1.117461e+06</td>\n",
       "      <td>3.873136</td>\n",
       "    </tr>\n",
       "    <tr>\n",
       "      <th>std</th>\n",
       "      <td>1833.101494</td>\n",
       "      <td>0.271378</td>\n",
       "      <td>0.876763</td>\n",
       "      <td>11.748788</td>\n",
       "      <td>62.347597</td>\n",
       "      <td>6.305496</td>\n",
       "      <td>3.747589</td>\n",
       "      <td>30.097375</td>\n",
       "      <td>8.823430</td>\n",
       "      <td>6.930518</td>\n",
       "      <td>...</td>\n",
       "      <td>3.571163</td>\n",
       "      <td>12.379825</td>\n",
       "      <td>8.032828</td>\n",
       "      <td>3.089157</td>\n",
       "      <td>1275.049375</td>\n",
       "      <td>2.812404</td>\n",
       "      <td>0.311472</td>\n",
       "      <td>277.221341</td>\n",
       "      <td>1.734767e+06</td>\n",
       "      <td>1.923251</td>\n",
       "    </tr>\n",
       "    <tr>\n",
       "      <th>min</th>\n",
       "      <td>0.000000</td>\n",
       "      <td>0.000000</td>\n",
       "      <td>2.000000</td>\n",
       "      <td>10.000000</td>\n",
       "      <td>693.000000</td>\n",
       "      <td>103.000000</td>\n",
       "      <td>1.000000</td>\n",
       "      <td>1.000000</td>\n",
       "      <td>1.000000</td>\n",
       "      <td>12.390000</td>\n",
       "      <td>...</td>\n",
       "      <td>21.000000</td>\n",
       "      <td>0.000000</td>\n",
       "      <td>0.000000</td>\n",
       "      <td>0.000000</td>\n",
       "      <td>0.000000</td>\n",
       "      <td>1.000000</td>\n",
       "      <td>0.000000</td>\n",
       "      <td>1000.000000</td>\n",
       "      <td>4.850000e+05</td>\n",
       "      <td>0.000000</td>\n",
       "    </tr>\n",
       "    <tr>\n",
       "      <th>25%</th>\n",
       "      <td>1586.000000</td>\n",
       "      <td>0.000000</td>\n",
       "      <td>3.000000</td>\n",
       "      <td>60.000000</td>\n",
       "      <td>1062.000000</td>\n",
       "      <td>118.000000</td>\n",
       "      <td>4.000000</td>\n",
       "      <td>7.700000</td>\n",
       "      <td>2.400000</td>\n",
       "      <td>14.120000</td>\n",
       "      <td>...</td>\n",
       "      <td>23.230000</td>\n",
       "      <td>0.000000</td>\n",
       "      <td>0.000000</td>\n",
       "      <td>0.000000</td>\n",
       "      <td>1085.000000</td>\n",
       "      <td>3.000000</td>\n",
       "      <td>0.000000</td>\n",
       "      <td>1200.000000</td>\n",
       "      <td>6.400000e+05</td>\n",
       "      <td>3.000000</td>\n",
       "    </tr>\n",
       "    <tr>\n",
       "      <th>50%</th>\n",
       "      <td>3174.000000</td>\n",
       "      <td>0.000000</td>\n",
       "      <td>3.000000</td>\n",
       "      <td>60.000000</td>\n",
       "      <td>1102.000000</td>\n",
       "      <td>123.000000</td>\n",
       "      <td>7.000000</td>\n",
       "      <td>15.000000</td>\n",
       "      <td>4.100000</td>\n",
       "      <td>24.180000</td>\n",
       "      <td>...</td>\n",
       "      <td>23.760000</td>\n",
       "      <td>23.010000</td>\n",
       "      <td>0.000000</td>\n",
       "      <td>0.000000</td>\n",
       "      <td>2209.000000</td>\n",
       "      <td>5.000000</td>\n",
       "      <td>0.000000</td>\n",
       "      <td>1400.000000</td>\n",
       "      <td>8.000000e+05</td>\n",
       "      <td>4.000000</td>\n",
       "    </tr>\n",
       "    <tr>\n",
       "      <th>75%</th>\n",
       "      <td>4764.500000</td>\n",
       "      <td>0.000000</td>\n",
       "      <td>3.000000</td>\n",
       "      <td>60.000000</td>\n",
       "      <td>1146.000000</td>\n",
       "      <td>128.000000</td>\n",
       "      <td>10.000000</td>\n",
       "      <td>38.000000</td>\n",
       "      <td>8.600000</td>\n",
       "      <td>25.360000</td>\n",
       "      <td>...</td>\n",
       "      <td>24.410000</td>\n",
       "      <td>24.050000</td>\n",
       "      <td>0.000000</td>\n",
       "      <td>0.000000</td>\n",
       "      <td>3308.000000</td>\n",
       "      <td>8.000000</td>\n",
       "      <td>0.000000</td>\n",
       "      <td>1650.000000</td>\n",
       "      <td>1.060000e+06</td>\n",
       "      <td>4.000000</td>\n",
       "    </tr>\n",
       "    <tr>\n",
       "      <th>max</th>\n",
       "      <td>6348.000000</td>\n",
       "      <td>1.000000</td>\n",
       "      <td>10.000000</td>\n",
       "      <td>138.000000</td>\n",
       "      <td>1369.000000</td>\n",
       "      <td>133.000000</td>\n",
       "      <td>15.000000</td>\n",
       "      <td>99.000000</td>\n",
       "      <td>101.000000</td>\n",
       "      <td>999.000000</td>\n",
       "      <td>...</td>\n",
       "      <td>999.000000</td>\n",
       "      <td>999.000000</td>\n",
       "      <td>49.570000</td>\n",
       "      <td>34.150000</td>\n",
       "      <td>4404.000000</td>\n",
       "      <td>11.000000</td>\n",
       "      <td>1.000000</td>\n",
       "      <td>2400.000000</td>\n",
       "      <td>2.500000e+07</td>\n",
       "      <td>13.000000</td>\n",
       "    </tr>\n",
       "  </tbody>\n",
       "</table>\n",
       "<p>8 rows × 21 columns</p>\n",
       "</div>"
      ],
      "text/plain": [
       "            race_id           won     horse_age  horse_rating  \\\n",
       "count  79447.000000  79447.000000  79447.000000  79447.000000   \n",
       "mean    3173.352814      0.080053      3.339346     61.034904   \n",
       "std     1833.101494      0.271378      0.876763     11.748788   \n",
       "min        0.000000      0.000000      2.000000     10.000000   \n",
       "25%     1586.000000      0.000000      3.000000     60.000000   \n",
       "50%     3174.000000      0.000000      3.000000     60.000000   \n",
       "75%     4764.500000      0.000000      3.000000     60.000000   \n",
       "max     6348.000000      1.000000     10.000000    138.000000   \n",
       "\n",
       "       declared_weight  actual_weight          draw      win_odds  \\\n",
       "count     79447.000000   79447.000000  79447.000000  79447.000000   \n",
       "mean       1104.953568     122.729656      6.876005     28.812977   \n",
       "std          62.347597       6.305496      3.747589     30.097375   \n",
       "min         693.000000     103.000000      1.000000      1.000000   \n",
       "25%        1062.000000     118.000000      4.000000      7.700000   \n",
       "50%        1102.000000     123.000000      7.000000     15.000000   \n",
       "75%        1146.000000     128.000000     10.000000     38.000000   \n",
       "max        1369.000000     133.000000     15.000000     99.000000   \n",
       "\n",
       "         place_odds         time1  ...         time3         time4  \\\n",
       "count  75712.000000  79447.000000  ...  79447.000000  79447.000000   \n",
       "mean       7.423177     21.135438  ...     23.864054     13.987405   \n",
       "std        8.823430      6.930518  ...      3.571163     12.379825   \n",
       "min        1.000000     12.390000  ...     21.000000      0.000000   \n",
       "25%        2.400000     14.120000  ...     23.230000      0.000000   \n",
       "50%        4.100000     24.180000  ...     23.760000     23.010000   \n",
       "75%        8.600000     25.360000  ...     24.410000     24.050000   \n",
       "max      101.000000    999.000000  ...    999.000000    999.000000   \n",
       "\n",
       "              time5         time6      horse_id       race_no       surface  \\\n",
       "count  79447.000000  79447.000000  79447.000000  79447.000000  79447.000000   \n",
       "mean       3.058096      0.397219   2204.410525      5.280086      0.108865   \n",
       "std        8.032828      3.089157   1275.049375      2.812404      0.311472   \n",
       "min        0.000000      0.000000      0.000000      1.000000      0.000000   \n",
       "25%        0.000000      0.000000   1085.000000      3.000000      0.000000   \n",
       "50%        0.000000      0.000000   2209.000000      5.000000      0.000000   \n",
       "75%        0.000000      0.000000   3308.000000      8.000000      0.000000   \n",
       "max       49.570000     34.150000   4404.000000     11.000000      1.000000   \n",
       "\n",
       "           distance         prize    race_class  \n",
       "count  79447.000000  7.359800e+04  79447.000000  \n",
       "mean    1419.195816  1.117461e+06      3.873136  \n",
       "std      277.221341  1.734767e+06      1.923251  \n",
       "min     1000.000000  4.850000e+05      0.000000  \n",
       "25%     1200.000000  6.400000e+05      3.000000  \n",
       "50%     1400.000000  8.000000e+05      4.000000  \n",
       "75%     1650.000000  1.060000e+06      4.000000  \n",
       "max     2400.000000  2.500000e+07     13.000000  \n",
       "\n",
       "[8 rows x 21 columns]"
      ]
     },
     "execution_count": 6,
     "metadata": {},
     "output_type": "execute_result"
    }
   ],
   "source": [
    "# merge the two datasets based on race_id column\n",
    "df = pd.merge(runs_data, races_data)\n",
    "df.describe()"
   ]
  },
  {
   "cell_type": "code",
   "execution_count": 7,
   "metadata": {},
   "outputs": [
    {
     "data": {
      "text/plain": [
       "Index(['race_id', 'won', 'horse_age', 'horse_country', 'horse_type',\n",
       "       'horse_rating', 'horse_gear', 'declared_weight', 'actual_weight',\n",
       "       'draw', 'win_odds', 'place_odds', 'time1', 'time2', 'time3', 'time4',\n",
       "       'time5', 'time6', 'horse_id', 'date', 'venue', 'race_no', 'config',\n",
       "       'surface', 'distance', 'going', 'horse_ratings', 'prize', 'race_class',\n",
       "       'total_time', 'avg_time'],\n",
       "      dtype='object')"
      ]
     },
     "execution_count": 7,
     "metadata": {},
     "output_type": "execute_result"
    }
   ],
   "source": [
    "#create new column for total_time\n",
    "\n",
    "df['total_time'] = (df['time1'] + df['time2'] + df['time3'])\n",
    "# df['total_time'].head(10)\n",
    "\n",
    "#add avg time per section column\n",
    "df['avg_time'] = (df['time1'] +df['time2'] +df['time3'])/3\n",
    "df.columns"
   ]
  },
  {
   "cell_type": "code",
   "execution_count": 8,
   "metadata": {},
   "outputs": [
    {
     "data": {
      "text/html": [
       "<div>\n",
       "<style scoped>\n",
       "    .dataframe tbody tr th:only-of-type {\n",
       "        vertical-align: middle;\n",
       "    }\n",
       "\n",
       "    .dataframe tbody tr th {\n",
       "        vertical-align: top;\n",
       "    }\n",
       "\n",
       "    .dataframe thead th {\n",
       "        text-align: right;\n",
       "    }\n",
       "</style>\n",
       "<table border=\"1\" class=\"dataframe\">\n",
       "  <thead>\n",
       "    <tr style=\"text-align: right;\">\n",
       "      <th></th>\n",
       "      <th>actual_weight</th>\n",
       "      <th>weight_class</th>\n",
       "    </tr>\n",
       "  </thead>\n",
       "  <tbody>\n",
       "    <tr>\n",
       "      <th>0</th>\n",
       "      <td>133</td>\n",
       "      <td>10_class</td>\n",
       "    </tr>\n",
       "    <tr>\n",
       "      <th>1</th>\n",
       "      <td>133</td>\n",
       "      <td>10_class</td>\n",
       "    </tr>\n",
       "    <tr>\n",
       "      <th>2</th>\n",
       "      <td>132</td>\n",
       "      <td>10_class</td>\n",
       "    </tr>\n",
       "    <tr>\n",
       "      <th>3</th>\n",
       "      <td>127</td>\n",
       "      <td>9_class</td>\n",
       "    </tr>\n",
       "    <tr>\n",
       "      <th>4</th>\n",
       "      <td>131</td>\n",
       "      <td>10_class</td>\n",
       "    </tr>\n",
       "  </tbody>\n",
       "</table>\n",
       "</div>"
      ],
      "text/plain": [
       "   actual_weight weight_class\n",
       "0            133     10_class\n",
       "1            133     10_class\n",
       "2            132     10_class\n",
       "3            127      9_class\n",
       "4            131     10_class"
      ]
     },
     "execution_count": 8,
     "metadata": {},
     "output_type": "execute_result"
    }
   ],
   "source": [
    "# update DataFrame for jockey weight class column calculated\n",
    "df[\"weight_class\"] = df.apply(lambda row: group_jockweight(row), axis=1)\n",
    "df[[\"actual_weight\",\"weight_class\"]].head()"
   ]
  },
  {
   "cell_type": "code",
   "execution_count": 9,
   "metadata": {},
   "outputs": [],
   "source": [
    "# update DataFrame for horse weight class column calculated\n",
    "df[\"horseweight_class\"] = df.apply(lambda row: group_horseweight(row), axis=1)"
   ]
  },
  {
   "cell_type": "code",
   "execution_count": 10,
   "metadata": {},
   "outputs": [],
   "source": [
    "#remove the MAJOR outliers\n",
    "df = df[(df['total_time'] < 90)]\n",
    "\n",
    "total_time_df = df[(df['total_time'] < 90)]"
   ]
  },
  {
   "cell_type": "code",
   "execution_count": 11,
   "metadata": {},
   "outputs": [],
   "source": [
    "# # create dirt and turf DataFrames and remove outliers\n",
    "# dirt_df = df[df['surface'] == 1]\n",
    "# turf_df = df[df['surface'] == 0]\n",
    "# turf_df = df[df['total_time'] < 90]\n",
    "\n",
    "# # create Pandas Series for Turf and Dirt\n",
    "# dirt_time_df = dirt_df['total_time']\n",
    "# turf_time_df = turf_df['total_time']\n",
    "\n",
    "# #create data array for dirt avg time\n",
    "# dirt_time = np.array(dirt_time_df)\n",
    "# #create data array for turf avg time\n",
    "# turf_time = np.array(turf_time_df)"
   ]
  },
  {
   "cell_type": "code",
   "execution_count": 12,
   "metadata": {},
   "outputs": [],
   "source": [
    "#create a new dataframe for new sub-population_races of 1200m\n",
    "total_time_dist1_df = df[(df['distance'] == 1200)]"
   ]
  },
  {
   "cell_type": "code",
   "execution_count": 13,
   "metadata": {},
   "outputs": [
    {
     "data": {
      "text/plain": [
       "Index(['race_id', 'won', 'horse_age', 'horse_country', 'horse_type',\n",
       "       'horse_rating', 'horse_gear', 'declared_weight', 'actual_weight',\n",
       "       'draw', 'win_odds', 'place_odds', 'time1', 'time2', 'time3', 'time4',\n",
       "       'time5', 'time6', 'horse_id', 'date', 'venue', 'race_no', 'config',\n",
       "       'surface', 'distance', 'going', 'horse_ratings', 'prize', 'race_class',\n",
       "       'total_time', 'avg_time', 'weight_class', 'horseweight_class'],\n",
       "      dtype='object')"
      ]
     },
     "execution_count": 13,
     "metadata": {},
     "output_type": "execute_result"
    }
   ],
   "source": [
    "# pandas drop columns using list of column names for heatmap\n",
    "total_time_dist1_df_clean = total_time_dist1_df.drop(['time4', 'time5', 'time6', 'surface', 'distance'], axis=1)\n",
    "total_time_dist1_df.columns"
   ]
  },
  {
   "cell_type": "code",
   "execution_count": 14,
   "metadata": {},
   "outputs": [],
   "source": [
    "#need to take population into subsets based on total distance of race (1200 first distance)\n",
    "total_time_dist1_df = df[(df['distance'] == 1200)]"
   ]
  },
  {
   "cell_type": "code",
   "execution_count": 15,
   "metadata": {},
   "outputs": [],
   "source": [
    "# split between venues for hypothesis testing\n",
    "\n",
    "HV_time_dist1_df = total_time_dist1_df[(total_time_dist1_df['venue'] == 'HV')]\n",
    "ST_time_dist1_df = total_time_dist1_df[(total_time_dist1_df['venue'] == 'ST')]"
   ]
  },
  {
   "cell_type": "code",
   "execution_count": 16,
   "metadata": {},
   "outputs": [],
   "source": [
    "#establish the two population time arrays\n",
    "HV_time_dist = np.array(HV_time_dist1_df ['total_time'])\n",
    "ST_time_dist = np.array(ST_time_dist1_df ['total_time'])"
   ]
  },
  {
   "cell_type": "code",
   "execution_count": 17,
   "metadata": {},
   "outputs": [
    {
     "name": "stdout",
     "output_type": "stream",
     "text": [
      "The Happy Valley population std dev: 0.7856470275604992, population variance: 0.6172412519146478,and population mean: 71.00644078398665\n"
     ]
    }
   ],
   "source": [
    "# Two Sample Approximate Test of Population Means\n",
    "# Happy valley population\n",
    "\n",
    "HVpop_std = np.std(HV_time_dist)\n",
    "HVpop_mu = np.mean(HV_time_dist)\n",
    "HVpop_var = np.var(HV_time_dist)\n",
    "print(f\"The Happy Valley population std dev: {HVpop_std}, \\\n",
    "population variance: {HVpop_var},and population mean: {HVpop_mu}\")\n",
    "HVpopulation = stats.norm(HVpop_mu, HVpop_std)"
   ]
  },
  {
   "cell_type": "code",
   "execution_count": 18,
   "metadata": {},
   "outputs": [
    {
     "name": "stdout",
     "output_type": "stream",
     "text": [
      "The Sha Tin population std dev: 1.0674258030375738, population variance: 1.1393978449904094,and population mean: 70.54171356684103\n"
     ]
    }
   ],
   "source": [
    "# Two Sample Approximate Test of Population Means\n",
    "# Shatin population\n",
    "\n",
    "STpop_std = np.std(ST_time_dist)\n",
    "STpop_mu = np.mean(ST_time_dist)\n",
    "STpop_var = np.var(ST_time_dist)\n",
    "print(f\"The Sha Tin population std dev: {STpop_std}, \\\n",
    "population variance: {STpop_var},and population mean: {STpop_mu}\")\n",
    "STpopulation = stats.norm(STpop_mu, STpop_std)"
   ]
  },
  {
   "cell_type": "code",
   "execution_count": 19,
   "metadata": {},
   "outputs": [
    {
     "name": "stdout",
     "output_type": "stream",
     "text": [
      "<class 'numpy.ndarray'>\n"
     ]
    }
   ],
   "source": [
    "# HVsample = HVpopulation.rvs(1000)\n",
    "# STsample = STpopulation.rvs(1000)\n",
    "HVsample = np.random.choice(HV_time_dist, 200)\n",
    "STsample = np.random.choice(ST_time_dist, 200)\n",
    "print(type(HVsample))"
   ]
  },
  {
   "cell_type": "code",
   "execution_count": 20,
   "metadata": {},
   "outputs": [
    {
     "data": {
      "image/png": "[encoded data removed]",
      "text/plain": [
       "<Figure size 1152x216 with 1 Axes>"
      ]
     },
     "metadata": {
      "needs_background": "light"
     },
     "output_type": "display_data"
    }
   ],
   "source": [
    "# speeds: HV vs ST\n",
    "fig, ax = plt.subplots(1, figsize=(16, 3))\n",
    "\n",
    "ax.scatter(HVsample, \n",
    "           np.repeat(0, len(HVsample)) + \\\n",
    "           np.random.normal(0, 0.1, len(HVsample)), ## jitter\n",
    "           color = 'tan', s=45)\n",
    "ax.scatter(STsample, \n",
    "           np.repeat(1, len(STsample)) + \\\n",
    "           np.random.normal(0, 0.1, len(STsample)), \n",
    "           color = 'brown', s=45)\n",
    "ax.set_yticks([0, 1])\n",
    "ax.set_yticklabels([\"HV\", \"ST\"]);"
   ]
  },
  {
   "cell_type": "code",
   "execution_count": 21,
   "metadata": {},
   "outputs": [],
   "source": [
    "# Welsh's t-test \n",
    "\n",
    "# def welch_test_statistic(sample_1, sample_2):\n",
    "#     numerator = np.mean(sample_1) - np.mean(sample_2)\n",
    "#     denominator_sq = (np.var(sample_1) / len(sample_1)) + \\\n",
    "#                         (np.var(sample_2) / len(sample_2))\n",
    "#     return numerator / np.sqrt(denominator_sq)"
   ]
  },
  {
   "cell_type": "code",
   "execution_count": 22,
   "metadata": {},
   "outputs": [
    {
     "name": "stdout",
     "output_type": "stream",
     "text": [
      "Welch Test Statistic: -6.05\n"
     ]
    }
   ],
   "source": [
    "test_statistic = welch_test_statistic(STsample, HVsample)\n",
    "print(\"Welch Test Statistic: {:2.2f}\".format(test_statistic))"
   ]
  },
  {
   "cell_type": "code",
   "execution_count": 23,
   "metadata": {},
   "outputs": [],
   "source": [
    "# def welch_satterhwaithe_df(samp_1, samp_2):\n",
    "#     ss1 = len(samp_1)\n",
    "#     ss2 = len(samp_2)\n",
    "#     df = (((np.var(samp_1)/ss1 + np.var(samp_2)/ss2)**(2.0)) / \n",
    "#         ((np.var(samp_1)/ss1)**(2.0)/(ss1 - 1)\n",
    "#          + (np.var(samp_2)/ss2)**(2.0)/(ss2 - 1)))\n",
    "#     return df"
   ]
  },
  {
   "cell_type": "code",
   "execution_count": 24,
   "metadata": {},
   "outputs": [
    {
     "name": "stdout",
     "output_type": "stream",
     "text": [
      "Degrees of Freedom for Welch's Test: 346.71213427655914\n"
     ]
    }
   ],
   "source": [
    "degrees_free = welch_satterhwaithe_df(STsample, HVsample)\n",
    "print(f'Degrees of Freedom for Welch\\'s Test: {degrees_free}')"
   ]
  },
  {
   "cell_type": "code",
   "execution_count": 25,
   "metadata": {},
   "outputs": [
    {
     "data": {
      "image/png": "[encoded data removed]",
      "text/plain": [
       "<Figure size 1152x216 with 1 Axes>"
      ]
     },
     "metadata": {
      "needs_background": "light"
     },
     "output_type": "display_data"
    }
   ],
   "source": [
    "#Welch Stat Distrib\n",
    "x = np.linspace(-10, 10, num=250)\n",
    "\n",
    "fig, ax = plt.subplots(1, figsize=(16, 3))\n",
    "students = stats.t(degrees_free)\n",
    "ax.plot(x, students.pdf(x), linewidth=2, label=\"Degree of Freedom: {:2.2f}\".format(degrees_free))\n",
    "ax.legend()\n",
    "ax.set_title(\"Distribution of Welsh's Test Statistic Under the Null Hypothesis\");"
   ]
  },
  {
   "cell_type": "code",
   "execution_count": 26,
   "metadata": {},
   "outputs": [
    {
     "name": "stdout",
     "output_type": "stream",
     "text": [
      "p-value for different average times : 0.00000000375422\n"
     ]
    }
   ],
   "source": [
    "# Do we have enough evidence to conclude that one is better?\n",
    "p_value = students.cdf(test_statistic) + (1 - students.cdf(-test_statistic))\n",
    "print(\"p-value for different average times : {:2.14f}\".format(p_value))"
   ]
  },
  {
   "cell_type": "code",
   "execution_count": 27,
   "metadata": {},
   "outputs": [
    {
     "name": "stdout",
     "output_type": "stream",
     "text": [
      "p-value for HV time over distance greater than ST: 0.00000000187711\n"
     ]
    }
   ],
   "source": [
    "# Do we have enough evidence to say HV turf track is \"less fast\"\n",
    "test_stat_better1 = welch_test_statistic(HVsample, STsample)\n",
    "\n",
    "p_value = 1 - students.cdf(test_stat_better1)\n",
    "print(\"p-value for HV time over distance greater than ST: {:2.14f}\".format(p_value))"
   ]
  },
  {
   "cell_type": "code",
   "execution_count": 28,
   "metadata": {},
   "outputs": [],
   "source": [
    "# what if i do it again and limit it to track type 0 TURF ONLY\n",
    "# split between venues for hypothesis testing\n",
    "\n",
    "HV0_time_dist1_df = HV_time_dist1_df[(HV_time_dist1_df['surface'] == 0)]\n",
    "ST0_time_dist1_df = ST_time_dist1_df[(ST_time_dist1_df['surface'] == 0)]"
   ]
  },
  {
   "cell_type": "code",
   "execution_count": 29,
   "metadata": {},
   "outputs": [],
   "source": [
    "#establish the two population time arrays for TURF ONLY\n",
    "HV0_time_dist = np.array(HV0_time_dist1_df ['total_time'])\n",
    "ST0_time_dist = np.array(ST0_time_dist1_df ['total_time'])"
   ]
  },
  {
   "cell_type": "code",
   "execution_count": 30,
   "metadata": {},
   "outputs": [
    {
     "name": "stdout",
     "output_type": "stream",
     "text": [
      "0.7856470275604992 0.6172412519146478 71.00644078398665\n"
     ]
    }
   ],
   "source": [
    "# Two Sample Approximate Test of Population Means\n",
    "# Happy valley population TURF ONLY\n",
    "\n",
    "HV0pop_std = np.std(HV0_time_dist)\n",
    "HV0pop_mu = np.mean(HV0_time_dist)\n",
    "HV0pop_var = np.var(HV0_time_dist)\n",
    "print(HV0pop_std, HV0pop_var, HV0pop_mu)\n",
    "HV0population = stats.norm(HV0pop_mu, HV0pop_std)"
   ]
  },
  {
   "cell_type": "code",
   "execution_count": 31,
   "metadata": {},
   "outputs": [
    {
     "name": "stdout",
     "output_type": "stream",
     "text": [
      "1.0327302612604663 1.0665317925231108 70.6950085861477\n"
     ]
    }
   ],
   "source": [
    "# Two Sample Approximate Test of Population Means\n",
    "# Shatin population TURF ONLY\n",
    "\n",
    "ST0pop_std = np.std(ST0_time_dist)\n",
    "ST0pop_mu = np.mean(ST0_time_dist)\n",
    "ST0pop_var = np.var(ST0_time_dist)\n",
    "print(ST0pop_std, ST0pop_var, ST0pop_mu)\n",
    "ST0population = stats.norm(ST0pop_mu, ST0pop_std)"
   ]
  },
  {
   "cell_type": "code",
   "execution_count": 32,
   "metadata": {},
   "outputs": [],
   "source": [
    "#large random sample over TURF ONLY\n",
    "np.random.seed(5)\n",
    "HV00sample = np.random.choice(HV0_time_dist, 8000)\n",
    "ST00sample = np.random.choice(ST0_time_dist, 8000)"
   ]
  },
  {
   "cell_type": "code",
   "execution_count": 33,
   "metadata": {},
   "outputs": [
    {
     "data": {
      "image/png": "[encoded data removed]",
      "text/plain": [
       "<Figure size 1152x216 with 1 Axes>"
      ]
     },
     "metadata": {
      "needs_background": "light"
     },
     "output_type": "display_data"
    }
   ],
   "source": [
    "# speeds: HV vs ST TURF ONLY POPULATION\n",
    "fig, ax = plt.subplots(1, figsize=(16, 3))\n",
    "\n",
    "ax.scatter(HV00sample, \n",
    "           np.repeat(0, len(HV00sample)) + \\\n",
    "           np.random.normal(0, 0.1, len(HV00sample)), ## jitter\n",
    "           label = 'Happy Valley', color = 'plum', s=45)\n",
    "ax.scatter(ST00sample, \n",
    "           np.repeat(1, len(ST00sample)) + \\\n",
    "           np.random.normal(0, 0.1, len(ST00sample)), \n",
    "           label = \"Sha Tin\", color = 'steelblue', s=45)\n",
    "ax.set_yticks([0, 1])\n",
    "ax.set_yticklabels([\"HV Turf\", \"ST Turf\"], fontsize=14)\n",
    "ax.set_xlabel(\"Time (s)\", fontsize=14)\n",
    "ax.legend(loc = 'best')\n",
    "ax.set_title(\"Large Sample (8,000) 1200m Time Distributions\", fontsize=20)\n",
    "bbox_inches='tight';\n",
    "# plt.savefig('LargeSampleScatterHVSTTurf.png')"
   ]
  },
  {
   "cell_type": "code",
   "execution_count": 34,
   "metadata": {},
   "outputs": [],
   "source": [
    "#small random sample TURF ONLY\n",
    "np.random.seed(5000)\n",
    "HV0sample = np.random.choice(HV0_time_dist, 100)\n",
    "ST0sample = np.random.choice(ST0_time_dist, 100)"
   ]
  },
  {
   "cell_type": "code",
   "execution_count": 35,
   "metadata": {},
   "outputs": [
    {
     "data": {
      "image/png": "[encoded data removed]",
      "text/plain": [
       "<Figure size 1152x216 with 1 Axes>"
      ]
     },
     "metadata": {
      "needs_background": "light"
     },
     "output_type": "display_data"
    }
   ],
   "source": [
    "# speeds: smaller sample HV vs ST TURF ONLY\n",
    "fig, ax = plt.subplots(1, figsize=(16, 3))\n",
    "\n",
    "ax.scatter(HV0sample, \n",
    "           np.repeat(0, len(HV0sample)) + \\\n",
    "           np.random.normal(0, 0.1, len(HV0sample)), ## jitter\n",
    "           label = 'Happy Valley', color = 'plum', s=45)\n",
    "ax.scatter(ST0sample, \n",
    "           np.repeat(1, len(ST0sample)) + \\\n",
    "           np.random.normal(0, 0.1, len(ST0sample)), \n",
    "           label = \"Sha Tin\", color = 'steelblue', s=45)\n",
    "ax.set_yticks([0, 1])\n",
    "ax.set_yticklabels([\"HV Turf\", \"ST Turf\"], fontsize=12)\n",
    "ax.set_xlabel(\"Time (s)\", fontsize=12)\n",
    "ax.legend(loc = 'best')\n",
    "ax.set_title(\"Small Sample (100) 1200m Time Distributions\", fontsize=18);\n",
    "# plt.savefig('SampleScatterHVSTTurf.png',bbox_inches='tight')"
   ]
  },
  {
   "cell_type": "code",
   "execution_count": 36,
   "metadata": {},
   "outputs": [
    {
     "name": "stdout",
     "output_type": "stream",
     "text": [
      "Welch Test Statistic: -3.20\n"
     ]
    }
   ],
   "source": [
    "#smaller sample test stat\n",
    "test_statistic0 = welch_test_statistic(ST0sample, HV0sample)\n",
    "print(\"Welch Test Statistic: {:2.2f}\".format(test_statistic0))"
   ]
  },
  {
   "cell_type": "code",
   "execution_count": 37,
   "metadata": {},
   "outputs": [
    {
     "name": "stdout",
     "output_type": "stream",
     "text": [
      "Degrees of Freedom for Welch's Test: 170.09974577196962\n"
     ]
    }
   ],
   "source": [
    "degrees_free0 = welch_satterhwaithe_df(ST0sample, HV0sample)\n",
    "print(f'Degrees of Freedom for Welch\\'s Test: {degrees_free0}')"
   ]
  },
  {
   "cell_type": "code",
   "execution_count": 38,
   "metadata": {},
   "outputs": [
    {
     "data": {
      "image/png": "[encoded data removed]",
      "text/plain": [
       "<Figure size 1152x288 with 1 Axes>"
      ]
     },
     "metadata": {
      "needs_background": "light"
     },
     "output_type": "display_data"
    }
   ],
   "source": [
    "# Distribution of Welsh's Test Statistic Under the Null Hypothesis\n",
    "x = np.linspace(-6, 6, num=250)\n",
    "\n",
    "fig, ax = plt.subplots(1, figsize=(16, 4))\n",
    "students = stats.t(degrees_free0)\n",
    "ax.plot(x, students.pdf(x), linewidth=5, color = 'midnightblue', label=\"Degrees of Freedom: {:2.2f}\".format(degrees_free0))\n",
    "ax.legend()\n",
    "ax.set_xlabel(\"Welch Statistic\", fontsize=14)\n",
    "ax.set_title(\"Distribution of Welsh's Test Statistic Under the Null Hypothesis\", fontsize=20)\n",
    "plt.tight_layout();\n",
    "# plt.savefig('WelchStatDistribTurf.png', bbox_inches='tight')"
   ]
  },
  {
   "cell_type": "code",
   "execution_count": 39,
   "metadata": {},
   "outputs": [
    {
     "name": "stdout",
     "output_type": "stream",
     "text": [
      "p-value for different average times over turf : 0.00164456406652\n"
     ]
    }
   ],
   "source": [
    "# Smaller sample: Do we have enough evidence to conclude that one is better?\n",
    "p_value0 = students.cdf(test_statistic0) + (1 - students.cdf(-test_statistic0))\n",
    "print(\"p-value for different average times over turf : {:2.14f}\".format(p_value0))"
   ]
  },
  {
   "cell_type": "code",
   "execution_count": 40,
   "metadata": {},
   "outputs": [
    {
     "name": "stdout",
     "output_type": "stream",
     "text": [
      "p-value for HV time over distance greater than ST over turf: 0.00082228203326\n"
     ]
    }
   ],
   "source": [
    "# Smaller sample: Do we have enough evidence to conclude that HV is less fast track?\n",
    "test_stat_better0 = welch_test_statistic(HV0sample, ST0sample)\n",
    "\n",
    "p0_value = 1 - students.cdf(test_stat_better0)\n",
    "print(\"p-value for HV time over distance greater than ST over turf: {:2.14f}\".format(p0_value))"
   ]
  },
  {
   "cell_type": "code",
   "execution_count": 41,
   "metadata": {},
   "outputs": [
    {
     "data": {
      "text/plain": [
       "Ttest_indResult(statistic=-3.1830686341634995, pvalue=0.0016924250643034267)"
      ]
     },
     "execution_count": 41,
     "metadata": {},
     "output_type": "execute_result"
    }
   ],
   "source": [
    "#calculate pvalue using stats ttest smaller sample\n",
    "stats.ttest_ind(ST0sample, HV0sample)"
   ]
  },
  {
   "cell_type": "code",
   "execution_count": 42,
   "metadata": {},
   "outputs": [
    {
     "name": "stdout",
     "output_type": "stream",
     "text": [
      "-3.1830686341634995 0.0014572306744265488\n"
     ]
    }
   ],
   "source": [
    "# perform a two tailed ztest to run simulation of p values over time\n",
    "\n",
    "from statsmodels.stats import weightstats as stests\n",
    "\n",
    "result, pv = stests.ztest(ST0sample, x2=HV0sample, value=0,alternative='two-sided')\n",
    "print(result,pv)"
   ]
  }
 ],
 "metadata": {
  "kernelspec": {
   "display_name": "Python 3",
   "language": "python",
   "name": "python3"
  },
  "language_info": {
   "codemirror_mode": {
    "name": "ipython",
    "version": 3
   },
   "file_extension": ".py",
   "mimetype": "text/x-python",
   "name": "python",
   "nbconvert_exporter": "python",
   "pygments_lexer": "ipython3",
   "version": "3.7.4"
  },
  "toc": {
   "base_numbering": 1,
   "nav_menu": {},
   "number_sections": false,
   "sideBar": true,
   "skip_h1_title": false,
   "title_cell": "Table of Contents",
   "title_sidebar": "Contents",
   "toc_cell": false,
   "toc_position": {},
   "toc_section_display": true,
   "toc_window_display": true
  }
 },
 "nbformat": 4,
 "nbformat_minor": 4
}
