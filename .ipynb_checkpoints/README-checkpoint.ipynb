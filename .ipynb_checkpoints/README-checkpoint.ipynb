{
 "cells": [
  {
   "cell_type": "markdown",
   "metadata": {},
   "source": [
    "<img src=\"images/PngItem_570550.png\" />"
   ]
  },
  {
   "cell_type": "markdown",
   "metadata": {},
   "source": [
    "# A run for their money"
   ]
  },
  {
   "cell_type": "markdown",
   "metadata": {},
   "source": [
    "#### *An Exploratory Data Analysis over 10 years of Hong Kong horse racing history*\n"
   ]
  },
  {
   "cell_type": "markdown",
   "metadata": {},
   "source": [
    "#### Jessica Mouras"
   ]
  },
  {
   "cell_type": "markdown",
   "metadata": {},
   "source": [
    "## Table of Contents\n",
    "[1. Motivation](#motive)<br> \n",
    "[2. Data](#data)\n",
    ">   [2 i. Pipeline](#pipeline)<br>\n",
    "    [2 ii. Feature Exploration](#explore)<br>\n",
    "    [2 iii. Evidence for the Motivation](#moto)<br>\n",
    "\n",
    "[3. What is my Null Hypothesis](#whathypo)<br>\n",
    "[4. Hypothesis Testing](#hypo)\n",
    "> [4 i. Set-Up](#setup)<br>\n",
    "> [4 ii. Welch Test Statistic & Student t- test](#welch)<br>\n",
    "> [4 iii. P-value](#pval)<br>\n",
    "\n",
    "[5. Conclusion](#conclude)"
   ]
  },
  {
   "cell_type": "markdown",
   "metadata": {},
   "source": [
    "## Motivation\n",
    "<a id=\"motive\"> </a>"
   ]
  },
  {
   "cell_type": "markdown",
   "metadata": {},
   "source": [
    "Everyone knows a horse girl. That perhaps, slightly weird chick in elementary school who always wrote horse stories in English. That girl in junior high that was really terrible at gym class sports, but yet could kick butt on those Presidential tests like sit up's and timed runs (bales of hay are 70lbs each, that's why). That teenager who in high school wore leggings with suede knee patches before leggings as pants were cool. FYI, she was wearing riding pants so she could jet off after class to train or compete.\n",
    "\n",
    "What if I told you that weird child, now a late twenties professional, leveraged her horse knowledge (and some statistics!) to make a couple extra g's a month? \n",
    "\n",
    "How?? Did she sell her fancy show horse? Nope, she made several strategic horse racing bets!\n",
    "\n",
    "Depsite competing as an adult in other horse disciplines, I've always loved horse racing. It brings people together regardless of their motivations, though typically categorized as:\n",
    "+ loving horses \n",
    "+ appreciation for high fashion and excessive drinking, looking at you, mint julep! \n",
    "+ gambling addiction(s) -- usually in addition either of the first two categories...\n",
    "\n",
    "Having grown up around horses and going so far as to becoming an track certified exercise rider in high school, I wondered what were my keys to success when it came to horse racing betting.\n",
    "\n",
    "Was my sucess betting on the ponies was related to my insider knowledge or if I was playing a pretty sucessful, but wild game of chance?\n",
    "\n",
    "This is my exploration into answering that question."
   ]
  },
  {
   "cell_type": "markdown",
   "metadata": {},
   "source": [
    "## Data\n",
    "<a id=\"data\"> </a>"
   ]
  },
  {
   "cell_type": "markdown",
   "metadata": {},
   "source": [
    "I wanted to explore horse racing data to determine whether or not there are certain factors impact the speed of a horse during a race. I also wondered if they were statisitically significant when it came to their relationship with speed.\n",
    "\n",
    "The data includes racing information from the two racecourse venues in Hong Kong.\n",
    " * Happy Valley\n",
    " * Sha Tin\n",
    "\n",
    "The data was collected from from the Hong Kong Jockey Club website related to race data between June 1997 and August 2005. \n",
    "\n",
    "It contains data 79,447 datapoints, which is each horse's \"run\" for each race over the several year period. This is comprised of 6,047 race events specifically for thoroughbred horses (this is important as it is a specifically narrow population of a nationally recognized sport) and 4,280 unique, registered horses.\n"
   ]
  },
  {
   "cell_type": "markdown",
   "metadata": {},
   "source": [
    "### Pipeline\n",
    "<a id=\"pipeline\"> </a>"
   ]
  },
  {
   "cell_type": "markdown",
   "metadata": {},
   "source": [
    "Where I got the data:\n",
    "\n",
    "+ Kaggle.com: Horse Racing in Hong Kong: https://www.kaggle.com/gdaley/hkracing#runs.csv\n",
    "\n",
    "This dataset includes two csv files:\n",
    "\n",
    "+ Races\n",
    "+ Runs\n",
    "\n",
    "I used python to import them, specifically the pandas library, and grouped them into dataframes. I proceeded to do all my calculations and tests within python deploying various libraries including scipy, matplotlib, seaborn, and numpy."
   ]
  },
  {
   "cell_type": "markdown",
   "metadata": {},
   "source": [
    "### Feature Exploration\n",
    "<a id=\"explore\"> </a>"
   ]
  },
  {
   "cell_type": "code",
   "execution_count": null,
   "metadata": {},
   "outputs": [],
   "source": []
  },
  {
   "cell_type": "code",
   "execution_count": null,
   "metadata": {},
   "outputs": [],
   "source": []
  },
  {
   "cell_type": "code",
   "execution_count": null,
   "metadata": {},
   "outputs": [],
   "source": []
  },
  {
   "cell_type": "markdown",
   "metadata": {},
   "source": []
  },
  {
   "cell_type": "markdown",
   "metadata": {},
   "source": [
    "### Evidence for Motivation\n",
    "<a id=\"moto\"> </a>"
   ]
  },
  {
   "cell_type": "markdown",
   "metadata": {},
   "source": []
  },
  {
   "cell_type": "markdown",
   "metadata": {},
   "source": []
  },
  {
   "cell_type": "markdown",
   "metadata": {},
   "source": [
    "## Hypothesis Testing\n",
    "<a id=\"hypo\"> </a>"
   ]
  },
  {
   "cell_type": "markdown",
   "metadata": {},
   "source": [
    "### Set-up\n",
    "<a id=\"setup\"> </a>"
   ]
  },
  {
   "cell_type": "markdown",
   "metadata": {},
   "source": [
    "My null hypothesis is that the venue (Happy Valley or Sha Tin) will have no impact on the average horse's speed over a 1200m distance.\n",
    "\n",
    "My alternative hypothesis is that the surface type will have an impact on the horse's average speed over a 1200m distance."
   ]
  },
  {
   "cell_type": "markdown",
   "metadata": {},
   "source": [
    "We are looking to examine differences in population averages between Happy Valley 1200m race population average speed vs. Sha Tin 1200m race population average speed.\n",
    "\n",
    "To test the null hypothesis, we have to establish the following:\n",
    "\n",
    "+ the two populations examined have independent variances/ standard deviations\n",
    "+ each of the population variances are independent parameters and are not related to the population means\n",
    "\n"
   ]
  },
  {
   "cell_type": "markdown",
   "metadata": {},
   "source": [
    "We can use the following formula to represent the Null Hypothesis (H for Happy Valley and S for Sha Tin)."
   ]
  },
  {
   "cell_type": "markdown",
   "metadata": {},
   "source": [
    "$$ \\text{Difference in sample averages} \\sim nor \\biggl( 0, \\sqrt{\\frac{\\sigma^2_H}{sample\n",
    "size} + \\frac{\\sigma^2_S}{samplesize}} \\biggr) $$"
   ]
  },
  {
   "cell_type": "markdown",
   "metadata": {},
   "source": [
    "When the above is true, we can use an approximation of populaton variance in the equation using the sample variances when calculating our p-value."
   ]
  },
  {
   "cell_type": "markdown",
   "metadata": {},
   "source": []
  },
  {
   "cell_type": "markdown",
   "metadata": {},
   "source": [
    "### Welch Test Statistic & Student t-test\n",
    "<a id=\"welch\"> </a>"
   ]
  },
  {
   "cell_type": "markdown",
   "metadata": {},
   "source": []
  },
  {
   "cell_type": "markdown",
   "metadata": {},
   "source": []
  },
  {
   "cell_type": "markdown",
   "metadata": {},
   "source": [
    "### P-value\n",
    "<a id=\"pval\"> </a>"
   ]
  },
  {
   "cell_type": "code",
   "execution_count": null,
   "metadata": {},
   "outputs": [],
   "source": []
  },
  {
   "cell_type": "code",
   "execution_count": null,
   "metadata": {},
   "outputs": [],
   "source": []
  },
  {
   "cell_type": "markdown",
   "metadata": {},
   "source": [
    "$$ P(\\text{Observe result equally or more extreme than actual} \\mid H_0) $$"
   ]
  },
  {
   "cell_type": "markdown",
   "metadata": {},
   "source": [
    "Finally, establish how surprised you neeed to be to reject the null hypothesis that there is no difference in the average speed based on venue. This is the critical value (alpha) that defines the sensitivity of the testing. It is the False Positive (Type 1) error rate which implies the rate at which the Null was rejected while it was ultimately True.\n",
    "\n",
    "As horse racing is a fast-paced sport with often very small time increments determining outcomes, I set the critical value at .01, lower than the standard 0.5."
   ]
  },
  {
   "cell_type": "markdown",
   "metadata": {},
   "source": [
    "$$ \\alpha = 0.05 $$"
   ]
  },
  {
   "cell_type": "markdown",
   "metadata": {},
   "source": [
    "## Conclusion\n",
    "<a id=\"conclude\"> </a>"
   ]
  },
  {
   "cell_type": "markdown",
   "metadata": {},
   "source": []
  },
  {
   "cell_type": "markdown",
   "metadata": {},
   "source": []
  }
 ],
 "metadata": {
  "kernelspec": {
   "display_name": "Python 3",
   "language": "python",
   "name": "python3"
  },
  "language_info": {
   "codemirror_mode": {
    "name": "ipython",
    "version": 3
   },
   "file_extension": ".py",
   "mimetype": "text/x-python",
   "name": "python",
   "nbconvert_exporter": "python",
   "pygments_lexer": "ipython3",
   "version": "3.7.4"
  },
  "toc": {
   "base_numbering": 1,
   "nav_menu": {},
   "number_sections": false,
   "sideBar": true,
   "skip_h1_title": false,
   "title_cell": "Table of Contents",
   "title_sidebar": "Contents",
   "toc_cell": false,
   "toc_position": {
    "height": "calc(100% - 180px)",
    "left": "10px",
    "top": "150px",
    "width": "241.797px"
   },
   "toc_section_display": true,
   "toc_window_display": true
  }
 },
 "nbformat": 4,
 "nbformat_minor": 4
}
