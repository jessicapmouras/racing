{
 "cells": [
  {
   "cell_type": "code",
   "execution_count": 43,
   "metadata": {},
   "outputs": [],
   "source": [
    "%matplotlib inline\n",
    "import math\n",
    "import pandas as pd\n",
    "import numpy as np\n",
    "import seaborn as sns\n",
    "import scipy as stats\n",
    "import matplotlib.pyplot as plt\n",
    "from scipy import stats\n",
    "from statsmodels.stats.power import TTestIndPower\n"
   ]
  },
  {
   "cell_type": "code",
   "execution_count": 44,
   "metadata": {},
   "outputs": [],
   "source": [
    "races = pd.read_csv('src/races.csv')\n",
    "runs = pd.read_csv('src/runs.csv')"
   ]
  },
  {
   "cell_type": "code",
   "execution_count": 45,
   "metadata": {},
   "outputs": [],
   "source": [
    "runs_data = runs[['race_id', 'won', 'horse_age', 'horse_country', 'horse_type', 'horse_rating',\n",
    "       'horse_gear', 'declared_weight', 'actual_weight', 'draw', 'win_odds',\n",
    "       'place_odds','time1', 'time2', 'time3', 'time4', 'time5', 'time6', 'horse_id']]\n",
    "\n",
    "races_data = races[['race_id', 'date', 'venue', 'race_no', 'config', 'surface', 'distance',\n",
    "       'going', 'horse_ratings', 'prize', 'race_class']]\n"
   ]
  },
  {
   "cell_type": "code",
   "execution_count": 46,
   "metadata": {},
   "outputs": [],
   "source": [
    "# merge the two datasets based on race_id column\n",
    "df = pd.merge(runs_data, races_data)\n",
    "#add column for total time of first 3 partions of race (equal distance per horse)\n",
    "df['total_time'] = (df['time1'] + df['time2'] + df['time3'])\n"
   ]
  },
  {
   "cell_type": "code",
   "execution_count": 47,
   "metadata": {},
   "outputs": [],
   "source": [
    "# df.columns"
   ]
  },
  {
   "cell_type": "markdown",
   "metadata": {},
   "source": [
    "### Helper function below to be moved into separate script"
   ]
  },
  {
   "cell_type": "code",
   "execution_count": 48,
   "metadata": {},
   "outputs": [],
   "source": [
    "#group jockey weights into 10 groups of 3 lbs each FUNCTION TIME\n",
    "\n",
    "def group_jockweight(row):\n",
    "    if row['actual_weight'] >= 130:\n",
    "        return \"class_10\"\n",
    "    if row['actual_weight'] < 130 and row['actual_weight'] >= 127:\n",
    "        return \"class_9\"\n",
    "    if row['actual_weight'] < 127 and row['actual_weight'] >= 124:\n",
    "        return \"class_8\"\n",
    "    if row['actual_weight'] < 124 and row['actual_weight'] >= 121:\n",
    "        return \"class_7\"\n",
    "    if row['actual_weight'] < 121 and row['actual_weight'] >= 118:\n",
    "        return \"class_6\"\n",
    "    if row['actual_weight'] < 118 and row['actual_weight'] >= 115:\n",
    "        return \"class_5\"\n",
    "    if row['actual_weight'] < 115 and row['actual_weight'] >= 112:\n",
    "        return \"class_4\"\n",
    "    if row['actual_weight'] < 112 and row['actual_weight'] >= 109:\n",
    "        return \"class_3\"\n",
    "    if row['actual_weight'] < 109 and row['actual_weight'] >= 106:\n",
    "        return \"class_2\"\n",
    "    if row['actual_weight'] < 106 and row['actual_weight'] >= 103:\n",
    "        return \"class_1\"\n",
    "    return \"other\"\n"
   ]
  },
  {
   "cell_type": "code",
   "execution_count": 49,
   "metadata": {},
   "outputs": [],
   "source": [
    "#add weight_class column to DataFrame for jockey\n",
    "df[\"weight_class\"] = df.apply(lambda row: group_jockweight(row), axis=1)"
   ]
  },
  {
   "cell_type": "markdown",
   "metadata": {},
   "source": [
    "### Helper function below to be moved into separate script"
   ]
  },
  {
   "cell_type": "code",
   "execution_count": 50,
   "metadata": {},
   "outputs": [],
   "source": [
    "def group_horseweight(row):\n",
    "    if row['declared_weight'] >= 1350:\n",
    "        return \"class_8\"\n",
    "    if row['declared_weight'] < 1350 and row['declared_weight'] >= 1250:\n",
    "        return \"class_7\"\n",
    "    if row['declared_weight'] < 1250 and row['declared_weight'] >= 1150:\n",
    "        return \"class_6\"\n",
    "    if row['declared_weight'] < 1150 and row['declared_weight'] >= 1050:\n",
    "        return \"class_5\"\n",
    "    if row['declared_weight'] < 1050 and row['declared_weight'] >= 950:\n",
    "        return \"class_4\"\n",
    "    if row['declared_weight'] < 950 and row['declared_weight'] >= 850:\n",
    "        return \"class_3\"\n",
    "    if row['declared_weight'] < 850 and row['declared_weight'] >= 750:\n",
    "        return \"class_2\"\n",
    "    if row['declared_weight'] < 750 and row['declared_weight'] >= 650:\n",
    "        return \"class_1\"\n",
    "    return \"other\""
   ]
  },
  {
   "cell_type": "code",
   "execution_count": 51,
   "metadata": {},
   "outputs": [],
   "source": [
    "#add horseweight_class column to DataFrame for horse\n",
    "df[\"horseweight_class\"] = df.apply(lambda row: group_horseweight(row), axis=1)"
   ]
  },
  {
   "cell_type": "code",
   "execution_count": 52,
   "metadata": {},
   "outputs": [],
   "source": [
    "#remove the MAJOR outliers\n",
    "df = df[(df['total_time'] < 90)]"
   ]
  },
  {
   "cell_type": "code",
   "execution_count": 53,
   "metadata": {},
   "outputs": [
    {
     "data": {
      "text/plain": [
       "Index(['race_id', 'won', 'horse_age', 'horse_country', 'horse_type',\n",
       "       'horse_rating', 'horse_gear', 'declared_weight', 'actual_weight',\n",
       "       'draw', 'win_odds', 'place_odds', 'time1', 'time2', 'time3', 'time4',\n",
       "       'time5', 'time6', 'horse_id', 'date', 'venue', 'race_no', 'config',\n",
       "       'surface', 'distance', 'going', 'horse_ratings', 'prize', 'race_class',\n",
       "       'total_time', 'weight_class', 'horseweight_class'],\n",
       "      dtype='object')"
      ]
     },
     "execution_count": 53,
     "metadata": {},
     "output_type": "execute_result"
    }
   ],
   "source": [
    "df.columns"
   ]
  },
  {
   "cell_type": "code",
   "execution_count": 54,
   "metadata": {},
   "outputs": [
    {
     "data": {
      "image/png": "[encoded data removed]",
      "text/plain": [
       "<Figure size 432x288 with 1 Axes>"
      ]
     },
     "metadata": {},
     "output_type": "display_data"
    }
   ],
   "source": [
    "# Full population histogram TOTAL TIME\n",
    "\n",
    "%matplotlib inline\n",
    "import numpy as np\n",
    "import matplotlib.pyplot as plt\n",
    "plt.style.use('seaborn-white')\n",
    "\n",
    "data = df['total_time']\n",
    "plt.hist(data, bins=50,\n",
    "         histtype='stepfilled', color='magenta',\n",
    "         edgecolor='none');"
   ]
  },
  {
   "cell_type": "code",
   "execution_count": 55,
   "metadata": {},
   "outputs": [
    {
     "data": {
      "text/plain": [
       "2400"
      ]
     },
     "execution_count": 55,
     "metadata": {},
     "output_type": "execute_result"
    }
   ],
   "source": [
    "distance = df['distance']\n",
    "distance.max()"
   ]
  },
  {
   "cell_type": "code",
   "execution_count": 56,
   "metadata": {},
   "outputs": [],
   "source": [
    "#need to take population into subsets based on total distance of race (1200 first distance)\n",
    "total_time_dist1_df = df[(df['distance'] == 1200)]"
   ]
  },
  {
   "cell_type": "code",
   "execution_count": 57,
   "metadata": {},
   "outputs": [
    {
     "data": {
      "text/plain": [
       "count    24695.000000\n",
       "mean      3267.422839\n",
       "std       1839.945762\n",
       "min          1.000000\n",
       "25%       1662.000000\n",
       "50%       3308.000000\n",
       "75%       4858.000000\n",
       "max       6347.000000\n",
       "Name: race_id, dtype: float64"
      ]
     },
     "execution_count": 57,
     "metadata": {},
     "output_type": "execute_result"
    }
   ],
   "source": [
    "total_time_dist1_df['race_id'].describe()"
   ]
  },
  {
   "cell_type": "code",
   "execution_count": null,
   "metadata": {},
   "outputs": [],
   "source": []
  },
  {
   "cell_type": "code",
   "execution_count": null,
   "metadata": {},
   "outputs": [],
   "source": []
  },
  {
   "cell_type": "code",
   "execution_count": 58,
   "metadata": {
    "scrolled": true
   },
   "outputs": [
    {
     "data": {
      "image/png": "[encoded data removed]",
      "text/plain": [
       "<Figure size 432x288 with 1 Axes>"
      ]
     },
     "metadata": {},
     "output_type": "display_data"
    }
   ],
   "source": [
    "# histogram TOTAL TIME distance 1200\n",
    "\n",
    "%matplotlib inline\n",
    "import numpy as np\n",
    "import matplotlib.pyplot as plt\n",
    "plt.style.use('seaborn-white')\n",
    "\n",
    "data = total_time_dist1_df['total_time']\n",
    "plt.hist(data, bins=50,\n",
    "         histtype='stepfilled', color='c',\n",
    "         edgecolor='none');"
   ]
  },
  {
   "cell_type": "code",
   "execution_count": null,
   "metadata": {},
   "outputs": [],
   "source": []
  },
  {
   "cell_type": "code",
   "execution_count": 59,
   "metadata": {},
   "outputs": [],
   "source": [
    "#establish total population time array\n",
    "total_time_dist = np.array(total_time_dist1_df['total_time'])"
   ]
  },
  {
   "cell_type": "markdown",
   "metadata": {},
   "source": [
    "+ Null hypothesis: There is no difference in the avg times between races on dirt versus turf\n",
    "+ Alt hypothesis: There is a statistical difference between the avg times between races on dirt vs turf"
   ]
  },
  {
   "cell_type": "code",
   "execution_count": 60,
   "metadata": {},
   "outputs": [
    {
     "data": {
      "text/plain": [
       "count    24695.000000\n",
       "mean        70.722222\n",
       "std          0.993945\n",
       "min         67.400000\n",
       "25%         70.100000\n",
       "50%         70.680000\n",
       "75%         71.260000\n",
       "max         84.180000\n",
       "Name: total_time, dtype: float64"
      ]
     },
     "execution_count": 60,
     "metadata": {},
     "output_type": "execute_result"
    }
   ],
   "source": [
    "total_time_dist1 = total_time_dist1_df['total_time']\n",
    "total_time_dist1.describe()"
   ]
  },
  {
   "cell_type": "markdown",
   "metadata": {},
   "source": []
  },
  {
   "cell_type": "code",
   "execution_count": 61,
   "metadata": {},
   "outputs": [
    {
     "name": "stdout",
     "output_type": "stream",
     "text": [
      "0.9939247332467516 0.9878863753596263 70.72222231220896\n"
     ]
    }
   ],
   "source": [
    "# original population std dev, variance & mean\n",
    "pop_std = np.std(total_time_dist)\n",
    "pop_mu = np.mean(total_time_dist)\n",
    "pop_var = np.var(total_time_dist)\n",
    "print(pop_std, pop_var, pop_mu)"
   ]
  },
  {
   "cell_type": "code",
   "execution_count": 62,
   "metadata": {},
   "outputs": [],
   "source": [
    "#original population distribution all races 1200m\n",
    "\n",
    "population = stats.norm(pop_mu, pop_std)"
   ]
  },
  {
   "cell_type": "code",
   "execution_count": 99,
   "metadata": {},
   "outputs": [
    {
     "data": {
      "image/png": "[encoded data removed]",
      "text/plain": [
       "<Figure size 1008x288 with 2 Axes>"
      ]
     },
     "metadata": {},
     "output_type": "display_data"
    }
   ],
   "source": [
    "## plot the Population CDF vs PDF\n",
    "%matplotlib inline\n",
    "import numpy as np\n",
    "import matplotlib.pyplot as plt\n",
    "plt.style.use('seaborn-white')\n",
    "population = stats.norm(pop_mu, pop_std)\n",
    "\n",
    "x = np.linspace(65, 75, num=250)\n",
    "fig, ax = plt.subplots(1, 2, figsize=(14, 4))\n",
    "\n",
    "ax[0].plot(x, population.cdf(x), linewidth=2)\n",
    "ax[0].scatter(72, population.cdf(72), s=100)\n",
    "ax[0].axhline(y=population.cdf(72), linestyle=\"--\") \n",
    "ax[0].set_ylim(-0.1, 1.1)\n",
    "ax[0].set_title(\"Population Distribution Function\")\n",
    "\n",
    "ax[1].plot(x, population.pdf(x), linewidth=2)\n",
    "ax[1].set_ylim(-0.05, 0.55)\n",
    "ax[1].set_title(\"Population Density Function\")\n",
    "_ = ax[1].fill_between(x, population.pdf(x), 0, \n",
    "                   where=( (x <= 72) ),\n",
    "                   color=\"red\", alpha=0.2)"
   ]
  },
  {
   "cell_type": "code",
   "execution_count": null,
   "metadata": {},
   "outputs": [],
   "source": []
  },
  {
   "cell_type": "markdown",
   "metadata": {},
   "source": [
    "### Helper function below to be moved into separate script"
   ]
  },
  {
   "cell_type": "code",
   "execution_count": 100,
   "metadata": {},
   "outputs": [],
   "source": [
    "# calc edf population \n",
    "def emperical_distribution(x, data):\n",
    "    weight = 1.0 / len(data)\n",
    "    count = np.zeros(shape=len(x))\n",
    "    for time in data:\n",
    "        count = count + np.array(x >= time)\n",
    "    return weight * count"
   ]
  },
  {
   "cell_type": "code",
   "execution_count": 101,
   "metadata": {},
   "outputs": [
    {
     "data": {
      "image/png": "[encoded data removed]",
      "text/plain": [
       "<Figure size 864x288 with 1 Axes>"
      ]
     },
     "metadata": {},
     "output_type": "display_data"
    }
   ],
   "source": [
    "# plot edf population of speeds of all 1000 meter races\n",
    "%matplotlib inline\n",
    "import numpy as np\n",
    "import matplotlib.pyplot as plt\n",
    "plt.style.use('seaborn-white')\n",
    "fig, ax = plt.subplots(figsize=(12, 4))\n",
    "\n",
    "x = np.linspace(65, 75, num=10)\n",
    "ax.plot(x, emperical_distribution(x, total_time_dist), linewidth=2)\n",
    "ax.set_ylim(-0.05, 1.05)\n",
    "ax.set_xlim(65, 75)\n",
    "ax.set_title(\"The Empirical Distribution Function of Population\");"
   ]
  },
  {
   "cell_type": "markdown",
   "metadata": {},
   "source": [
    "### Helper function below to be moved into separate script"
   ]
  },
  {
   "cell_type": "code",
   "execution_count": 102,
   "metadata": {},
   "outputs": [],
   "source": [
    "#Take 30 bootstrap samples of 1,000 each with replacement\n",
    "\n",
    "def bootstrap(x, resamp=30):\n",
    "    \"\"\"Draw bootstrap resamples from the array x.\n",
    "\n",
    "    Parameters\n",
    "    ----------\n",
    "    x: np.array, shape (n, )\n",
    "      The data to draw the bootstrap samples from.\n",
    "    \n",
    "    resamples: int\n",
    "      The number of bootstrap samples to draw from x.\n",
    "    \n",
    "    Returns\n",
    "    -------\n",
    "    bootstrap_samples: List[np.array]\n",
    "      The bootsrap resamples from x.  \n",
    "      Each array is a single bootstrap sample.\n",
    "    \"\"\"\n",
    "    n_obs = x.shape[0]\n",
    "    boot_samples = []\n",
    "    for k in range(resamp):\n",
    "        boot_idxs = np.random.randint(n_obs, size=n_obs)\n",
    "        boot_sample = x[boot_idxs]\n",
    "        boot_samples.append(boot_sample)\n",
    "    return boot_samples"
   ]
  },
  {
   "cell_type": "code",
   "execution_count": 103,
   "metadata": {},
   "outputs": [],
   "source": [
    "#Take 30 bootstrap samples of 1,000 each with replacement\n",
    "sample = population.rvs(5000)\n",
    "booted_data = bootstrap(sample, resamp=30)\n"
   ]
  },
  {
   "cell_type": "markdown",
   "metadata": {},
   "source": [
    "### Helper function below to be moved into separate script"
   ]
  },
  {
   "cell_type": "code",
   "execution_count": 104,
   "metadata": {},
   "outputs": [],
   "source": [
    "#Get confidence interval for the bootstrapped sample\n",
    "\n",
    "def btstrp_ci(sample, stat_function=np.mean, resamp=30, ci=95):\n",
    "    boostrap_samples = bootstrap(sample, resamp=resamp)\n",
    "    bootstrap_samples_stat = list(map(stat_function, boostrap_samples))\n",
    "    low = (100. - ci) / 2\n",
    "    high= 100. - low\n",
    "    lower_ci, upper_ci = np.percentile(bootstrap_samples_stat,\n",
    "                                       [low, high])\n",
    "    return lower_ci, upper_ci, bootstrap_samples_stat"
   ]
  },
  {
   "cell_type": "code",
   "execution_count": 105,
   "metadata": {},
   "outputs": [
    {
     "name": "stdout",
     "output_type": "stream",
     "text": [
      "The 95% bootstrapped CI of the mean: (70.69346242317756, 70.74313171090776)\n"
     ]
    }
   ],
   "source": [
    "lower_ci, upper_ci, bootstrap_means_prod = btstrp_ci(sample, ci=95)\n",
    "print(f'The 95% bootstrapped CI of the mean: ({lower_ci}, {upper_ci})')"
   ]
  },
  {
   "cell_type": "markdown",
   "metadata": {},
   "source": [
    "### Helper function below to be moved into separate script"
   ]
  },
  {
   "cell_type": "code",
   "execution_count": 106,
   "metadata": {},
   "outputs": [],
   "source": [
    "def superimpose_cdf_of_fit_model(data, model, ax, x_lower=-150, x_upper=150):\n",
    "    lwd = 3\n",
    "    x = np.linspace(x_lower, x_upper, num=250)\n",
    "    ax.plot(x, emperical_distribution(x, data),\n",
    "            linewidth=lwd, alpha = .5, label = \"sample\")\n",
    "    ax.plot(x, model.cdf(x), label = \"population\",\n",
    "            linewidth=lwd, linestyle = \"dashed\")\n",
    "    ax.tick_params(axis='both', which='major', labelsize=15)\n",
    "    ax.legend()"
   ]
  },
  {
   "cell_type": "code",
   "execution_count": 71,
   "metadata": {},
   "outputs": [
    {
     "data": {
      "image/png": "[encoded data removed]",
      "text/plain": [
       "<Figure size 1440x432 with 4 Axes>"
      ]
     },
     "metadata": {},
     "output_type": "display_data"
    }
   ],
   "source": [
    "%matplotlib inline\n",
    "import numpy as np\n",
    "import matplotlib.pyplot as plt\n",
    "plt.style.use('seaborn-white')\n",
    "\n",
    "population = stats.norm(pop_std, pop_mu)\n",
    "\n",
    "fig, axs = plt.subplots(1, 4, figsize=(20, 6), sharey=True)\n",
    "\n",
    "for ax in axs.flatten():\n",
    "    sample = population.rvs(1000)\n",
    "    superimpose_cdf_of_fit_model(sample, population, ax)\n",
    "fig.suptitle(\"Population vs. Sample CDFs (normal)\")\n",
    "plt.tight_layout(pad = 2)"
   ]
  },
  {
   "cell_type": "code",
   "execution_count": null,
   "metadata": {},
   "outputs": [],
   "source": []
  },
  {
   "cell_type": "code",
   "execution_count": 107,
   "metadata": {},
   "outputs": [],
   "source": [
    "#split between venues for hypothesis testing\n",
    "\n",
    "HV_time_dist1_df = total_time_dist1_df[(total_time_dist1_df['venue'] == 'HV')]\n",
    "ST_time_dist1_df = total_time_dist1_df[(total_time_dist1_df['venue'] == 'ST')]"
   ]
  },
  {
   "cell_type": "code",
   "execution_count": 108,
   "metadata": {},
   "outputs": [
    {
     "data": {
      "text/plain": [
       "count    9592.000000\n",
       "mean       71.006441\n",
       "std         0.785688\n",
       "min        68.820000\n",
       "25%        70.500000\n",
       "50%        70.940000\n",
       "75%        71.420000\n",
       "max        84.180000\n",
       "Name: total_time, dtype: float64"
      ]
     },
     "execution_count": 108,
     "metadata": {},
     "output_type": "execute_result"
    }
   ],
   "source": [
    "HV_time_dist1_df['total_time'].describe()"
   ]
  },
  {
   "cell_type": "code",
   "execution_count": 109,
   "metadata": {},
   "outputs": [
    {
     "data": {
      "text/plain": [
       "count    15103.000000\n",
       "mean        70.541714\n",
       "std          1.067461\n",
       "min         67.400000\n",
       "25%         69.850000\n",
       "50%         70.450000\n",
       "75%         71.100000\n",
       "max         81.430000\n",
       "Name: total_time, dtype: float64"
      ]
     },
     "execution_count": 109,
     "metadata": {},
     "output_type": "execute_result"
    }
   ],
   "source": [
    "ST_time_dist1_df['total_time'].describe()"
   ]
  },
  {
   "cell_type": "code",
   "execution_count": 110,
   "metadata": {},
   "outputs": [
    {
     "data": {
      "image/png": "[encoded data removed]",
      "text/plain": [
       "<Figure size 432x216 with 1 Axes>"
      ]
     },
     "metadata": {},
     "output_type": "display_data"
    }
   ],
   "source": [
    "# histogram HV TIME distance 1200\n",
    "\n",
    "plt.style.use('seaborn-white')\n",
    "\n",
    "fig, ax = plt.subplots(figsize = (6, 3))\n",
    "data = HV_time_dist1_df['total_time']\n",
    "plt.hist(data, bins=50,\n",
    "         histtype='stepfilled', color='c',\n",
    "         edgecolor='none');\n",
    "plt.xlabel(\"Time (s)\")\n",
    "plt.ylabel(\"Frequency\")\n",
    "plt.title(\"Happy Valley 1st 3 markers\");\n",
    "# plt.savefig('Happy_Valley_time_histo.png')"
   ]
  },
  {
   "cell_type": "code",
   "execution_count": 111,
   "metadata": {},
   "outputs": [
    {
     "data": {
      "image/png": "[encoded data removed]",
      "text/plain": [
       "<Figure size 432x288 with 1 Axes>"
      ]
     },
     "metadata": {},
     "output_type": "display_data"
    }
   ],
   "source": [
    "# histogram ST TIME distance 1200\n",
    "\n",
    "%matplotlib inline\n",
    "import numpy as np\n",
    "import matplotlib.pyplot as plt\n",
    "plt.style.use('seaborn-white')\n",
    "\n",
    "data = ST_time_dist1_df['total_time']\n",
    "plt.hist(data, bins=50,\n",
    "         histtype='stepfilled', color='wheat',\n",
    "         edgecolor='none');"
   ]
  },
  {
   "cell_type": "code",
   "execution_count": 112,
   "metadata": {},
   "outputs": [],
   "source": [
    "#establish the two population time arrays\n",
    "HV_time_dist = np.array(HV_time_dist1_df ['total_time'])\n",
    "ST_time_dist = np.array(ST_time_dist1_df ['total_time'])"
   ]
  },
  {
   "cell_type": "code",
   "execution_count": 113,
   "metadata": {},
   "outputs": [
    {
     "name": "stdout",
     "output_type": "stream",
     "text": [
      "0.7856470275604992 0.6172412519146478 71.00644078398665\n"
     ]
    }
   ],
   "source": [
    "# Two Sample Approximate Test of Population Means \n",
    "HVpop_std = np.std(HV_time_dist)\n",
    "HVpop_mu = np.mean(HV_time_dist)\n",
    "HVpop_var = np.var(HV_time_dist)\n",
    "print(HVpop_std, HVpop_var, HVpop_mu)\n",
    "HVpopulation = stats.norm(HVpop_mu, HVpop_std)"
   ]
  },
  {
   "cell_type": "code",
   "execution_count": 114,
   "metadata": {},
   "outputs": [
    {
     "name": "stdout",
     "output_type": "stream",
     "text": [
      "1.0674258030375738 1.1393978449904094 70.54171356684103\n"
     ]
    }
   ],
   "source": [
    "STpop_std = np.std(ST_time_dist)\n",
    "STpop_mu = np.mean(ST_time_dist)\n",
    "STpop_var = np.var(ST_time_dist)\n",
    "print(STpop_std, STpop_var, STpop_mu)\n",
    "STpopulation = stats.norm(STpop_mu, STpop_std)"
   ]
  },
  {
   "cell_type": "code",
   "execution_count": 142,
   "metadata": {},
   "outputs": [],
   "source": [
    "HVsample = HVpopulation.rvs(8000)\n",
    "STsample = STpopulation.rvs(8000)"
   ]
  },
  {
   "cell_type": "code",
   "execution_count": 130,
   "metadata": {},
   "outputs": [],
   "source": [
    "# HVsample2 = HVpopulation.rvs(50)\n",
    "# STsample2 = HVpopulation.rvs(50)"
   ]
  },
  {
   "cell_type": "code",
   "execution_count": 143,
   "metadata": {},
   "outputs": [
    {
     "data": {
      "image/png": "[encoded data removed]",
      "text/plain": [
       "<Figure size 1152x216 with 1 Axes>"
      ]
     },
     "metadata": {},
     "output_type": "display_data"
    }
   ],
   "source": [
    "# speeds: HV vs ST\n",
    "fig, ax = plt.subplots(1, figsize=(16, 3))\n",
    "\n",
    "ax.scatter(HVsample, \n",
    "           np.repeat(0, len(HVsample)) + \\\n",
    "           np.random.normal(0, 0.1, len(HVsample)), ## jitter\n",
    "           color = 'tan', s=45)\n",
    "ax.scatter(STsample, \n",
    "           np.repeat(1, len(STsample)) + \\\n",
    "           np.random.normal(0, 0.1, len(STsample)), \n",
    "           color = 'brown', s=45)\n",
    "ax.set_yticks([0, 1])\n",
    "ax.set_yticklabels([\"HV\", \"ST\"]);"
   ]
  },
  {
   "cell_type": "markdown",
   "metadata": {},
   "source": [
    "### Helper function below to be moved into separate script"
   ]
  },
  {
   "cell_type": "code",
   "execution_count": 144,
   "metadata": {},
   "outputs": [],
   "source": [
    "# Welsh's t-test There are two independent variances, which we have no reason to believe are the same.\n",
    "#The variances are independent parameters, unrelated to the mean.\n",
    "#In cases where we have to independently estimate the variance of a normal distribution \n",
    "#from the same samples we are testing, \n",
    "#this estimation of the variance contributes to uncertenty in our test. \n",
    "#This means that the Normal distribution is then too precise \n",
    "#to use as a conservative estimate of the p-value.\n",
    "\n",
    "def welch_test_statistic(sample_1, sample_2):\n",
    "    num = np.mean(sample_1) - np.mean(sample_2)\n",
    "    denom_sq = (np.var(sample_1) / len(sample_1)) + \\\n",
    "                        (np.var(sample_2) / len(sample_2))\n",
    "    return num / np.sqrt(denom_sq)"
   ]
  },
  {
   "cell_type": "code",
   "execution_count": 145,
   "metadata": {},
   "outputs": [
    {
     "name": "stdout",
     "output_type": "stream",
     "text": [
      "Welch Test Statistic: 30.721475973466077\n"
     ]
    }
   ],
   "source": [
    "\n",
    "test_stat = welch_test_statistic(HVsample, STsample)\n",
    "print(f'Welch Test Statistic: {test_stat}')"
   ]
  },
  {
   "cell_type": "code",
   "execution_count": 146,
   "metadata": {},
   "outputs": [],
   "source": [
    "# test_stat2 = welch_test_statistic(HVsample2, STsample2)\n",
    "# print(f'Welch Test Statistic: {test_stat2}')"
   ]
  },
  {
   "cell_type": "code",
   "execution_count": 147,
   "metadata": {},
   "outputs": [],
   "source": [
    "def welch_satterhwaithe_df(samp_1, samp_2):\n",
    "    ss1 = len(samp_1)\n",
    "    ss2 = len(samp_2)\n",
    "    df = (((np.var(samp_1)/ss1 + np.var(samp_2)/ss2)**(2.0)) / \n",
    "        ((np.var(samp_1)/ss1)**(2.0)/(ss1 - 1)\n",
    "         + (np.var(samp_2)/ss2)**(2.0)/(ss2 - 1)))\n",
    "    return df"
   ]
  },
  {
   "cell_type": "code",
   "execution_count": 148,
   "metadata": {},
   "outputs": [
    {
     "name": "stdout",
     "output_type": "stream",
     "text": [
      "Degrees of Freedom for Welch's Test: 14657.68931962572\n"
     ]
    }
   ],
   "source": [
    "degrees_free = welch_satterhwaithe_df(HVsample, STsample)\n",
    "print(f'Degrees of Freedom for Welch\\'s Test: {degrees_free}')"
   ]
  },
  {
   "cell_type": "code",
   "execution_count": 139,
   "metadata": {},
   "outputs": [
    {
     "name": "stdout",
     "output_type": "stream",
     "text": [
      "Degrees of Freedom for Welch's Test: 97.9936089526056\n"
     ]
    }
   ],
   "source": [
    "# degrees_free2 = welch_satterhwaithe_df(HVsample2, STsample2)\n",
    "# print(f'Degrees of Freedom for Welch\\'s Test: {degrees_free2}')"
   ]
  },
  {
   "cell_type": "code",
   "execution_count": 149,
   "metadata": {},
   "outputs": [
    {
     "data": {
      "image/png": "[encoded data removed]",
      "text/plain": [
       "<Figure size 1152x216 with 1 Axes>"
      ]
     },
     "metadata": {},
     "output_type": "display_data"
    }
   ],
   "source": [
    "# p-val\n",
    "x = np.linspace(-10, 10, num=250)\n",
    "\n",
    "fig, ax = plt.subplots(1, figsize=(16, 3))\n",
    "students = stats.t(degrees_free)\n",
    "ax.plot(x, students.pdf(x), linewidth=2, label=\"Degree of Freedom: {:2.2f}\".format(degrees_free))\n",
    "_ = ax.fill_between(x, students.pdf(x), where=(x >= -test_stat), color=\"red\", alpha=0.25)\n",
    "_ = ax.fill_between(x, students.pdf(x), where=(x <= test_stat), color=\"red\", alpha=0.25)\n",
    "ax.legend()\n",
    "ax.set_title(\"p-value Reigon\");"
   ]
  },
  {
   "cell_type": "code",
   "execution_count": 150,
   "metadata": {},
   "outputs": [
    {
     "name": "stdout",
     "output_type": "stream",
     "text": [
      "p-value for different average times : 2.00\n"
     ]
    }
   ],
   "source": [
    "# Do we have enough evidence to conclude that one is better?\n",
    "p_value = students.cdf(test_stat) + (1 - students.cdf(-test_stat))\n",
    "print(\"p-value for different average times : {:2.2f}\".format(p_value))"
   ]
  },
  {
   "cell_type": "code",
   "execution_count": 151,
   "metadata": {},
   "outputs": [
    {
     "name": "stdout",
     "output_type": "stream",
     "text": [
      "p-value for HV avg time greater than ST avg time: 0.000\n"
     ]
    }
   ],
   "source": [
    "test_stat_better1 = welch_test_statistic(HVsample, STsample)\n",
    "\n",
    "p_value = 1 - students.cdf(test_stat_better1)\n",
    "print(\"p-value for HV avg time greater than ST avg time: {:2.3f}\".format(p_value))"
   ]
  },
  {
   "cell_type": "code",
   "execution_count": 152,
   "metadata": {},
   "outputs": [
    {
     "name": "stdout",
     "output_type": "stream",
     "text": [
      "p-value for ST avg time greater than HV avg time: 1.000\n"
     ]
    }
   ],
   "source": [
    "test_stat_better2 = welch_test_statistic(STsample, HVsample)\n",
    "\n",
    "p_value = 1 - students.cdf(test_stat_better2)\n",
    "print(\"p-value for ST avg time greater than HV avg time: {:2.3f}\".format(p_value))"
   ]
  },
  {
   "cell_type": "code",
   "execution_count": null,
   "metadata": {},
   "outputs": [],
   "source": []
  },
  {
   "cell_type": "code",
   "execution_count": null,
   "metadata": {},
   "outputs": [],
   "source": []
  },
  {
   "cell_type": "code",
   "execution_count": null,
   "metadata": {},
   "outputs": [],
   "source": []
  },
  {
   "cell_type": "code",
   "execution_count": null,
   "metadata": {},
   "outputs": [],
   "source": []
  },
  {
   "cell_type": "code",
   "execution_count": null,
   "metadata": {},
   "outputs": [],
   "source": [
    "#Critical value to Reject Null Hypothesis\n",
    "#Assumption sample size is 1,500\n",
    "#rejection level alpha 0.05\n",
    "\n",
    "# pop_std = np.std(total_time_dist)\n",
    "# sample = 1500\n",
    "\n",
    "# null_distribution = stats.norm(0, pop_std / np.sqrt(sample))\n",
    "# critical_value = null_distribution.ppf(0.95)\n",
    "\n",
    "# print(\"Critical Value to Reject H_0: {:2.2f}\".format(critical_value))"
   ]
  },
  {
   "cell_type": "code",
   "execution_count": null,
   "metadata": {},
   "outputs": [],
   "source": [
    "#determine effect size\n",
    "#Cohen's d effect size\n",
    "#Cohen's d is defined as the difference between \n",
    "#two means divided by a standard deviation for the data\n",
    "\n",
    "# def cohen_effect(data1, data2):\n",
    "#     diff = data1.mean() - data2.mean()\n",
    "#     n1 = len(data1)\n",
    "#     n2 = len(data2)\n",
    "#     var1 = data1.var()\n",
    "#     var2 = data2.var()\n",
    "    \n",
    "#     vari = (n1 * var1 + n2 * var2) / (n1 + n2)\n",
    "    \n",
    "#     d = diff / np.sqrt(vari)\n",
    "#     return d\n"
   ]
  },
  {
   "cell_type": "code",
   "execution_count": null,
   "metadata": {},
   "outputs": [],
   "source": [
    "#calc effect size from cohen effect function\n",
    "# effect =abs(cohen_effect(dirt_time, turf_time))\n",
    "# effect"
   ]
  },
  {
   "cell_type": "code",
   "execution_count": null,
   "metadata": {},
   "outputs": [],
   "source": [
    "# Sample size needed for effect size of .02 & power of .8\n",
    "\n",
    "\n",
    "# mu0 = 0\n",
    "# mua = .02\n",
    "# sigma = np.std(total_time_dist) #population std deviation\n",
    "# alpha = 0.05\n",
    "# power = .8\n",
    "\n",
    "\n",
    "# def sample_size_needed_for_power(alpha, power, mu0, mua, sigma):\n",
    "#     standard_normal = stats.norm(0, 1)\n",
    "#     beta = 1 - power\n",
    "#     numerator = sigma * (standard_normal.ppf(1 - alpha) - standard_normal.ppf(beta))\n",
    "#     denominator = mua - mu0\n",
    "#     return (numerator / denominator) ** 2\n",
    "# sample_size_needed_for_power(alpha, power, mu0, mua, sigma)"
   ]
  },
  {
   "cell_type": "code",
   "execution_count": null,
   "metadata": {},
   "outputs": [],
   "source": []
  }
 ],
 "metadata": {
  "kernelspec": {
   "display_name": "Python 3",
   "language": "python",
   "name": "python3"
  },
  "toc": {
   "base_numbering": 1,
   "nav_menu": {},
   "number_sections": true,
   "sideBar": true,
   "skip_h1_title": false,
   "title_cell": "Table of Contents",
   "title_sidebar": "Contents",
   "toc_cell": false,
   "toc_position": {},
   "toc_section_display": true,
   "toc_window_display": false
  }
 },
 "nbformat": 4,
 "nbformat_minor": 4
}
