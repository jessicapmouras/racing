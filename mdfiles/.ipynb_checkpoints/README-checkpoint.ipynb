{
 "cells": [
  {
   "cell_type": "markdown",
   "metadata": {},
   "source": [
    "<img src=\"PngItem_570550.png\" />"
   ]
  },
  {
   "cell_type": "markdown",
   "metadata": {},
   "source": [
    "# A run for their money"
   ]
  },
  {
   "cell_type": "markdown",
   "metadata": {},
   "source": [
    "#### *An Exploratory Data Analysis over 10 years of Hong Kong racing history*\n"
   ]
  },
  {
   "cell_type": "markdown",
   "metadata": {},
   "source": [
    "#### Jessica Mouras"
   ]
  },
  {
   "cell_type": "markdown",
   "metadata": {},
   "source": [
    "## Table of Contents\n",
    "[1. Motivation](#motive)<br> \n",
    "[2. Data](#data)\n",
    ">   [2 i. Pipeline](#pipeline)<br>\n",
    "    [2 ii. Feature Exploration](#explore)<br>\n",
    "    [2 iii. Evidence for the Motivation](#moto)<br>\n",
    "\n",
    "[3. What is my Null Hypothesis](#whathypo)<br>\n",
    "[4. Hypothesis Testing](#hypo)\n",
    "> [4 i. Set-Up](#setup)<br>\n",
    "> [4 ii P-value Calculation](#pvalue)<br>\n",
    "\n",
    "[5. Conclusion](#conclude)"
   ]
  },
  {
   "cell_type": "markdown",
   "metadata": {},
   "source": [
    "## Motivation\n",
    "<a id=\"motive\"> </a>"
   ]
  },
  {
   "cell_type": "markdown",
   "metadata": {},
   "source": [
    "Everyone knows a horse girl. That perhaps, slightly weird chick in elementary school with hair that she could sit on who always wrote horse stories in English. That girl in junior high that was really terrible at gym class sports, but yet could kick butt on those Presidential tests like sit up's and timed runs (bales of hay are 70lbs each, that's why). That teenager who in high school wore leggings with suede knee patches before leggings as pants were cool. FYI, she was wearing riding pants so she could jet off after class to train or compete.\n",
    "\n",
    "What if I told you that weird child, now a late twenties professional, leveraged her horse knowledge (and some statistics!) to make a couple extra g's a month? \n",
    "\n",
    "How?? Did she sell her fancy show horse? Nope, she made several strategic horse racing bets!\n",
    "\n",
    "Depsite competing as an adult in other horse disciplines, I've always loved horse racing. It brings people together regardless of their motivations: usually categorized as:\n",
    "+ loving horses \n",
    "+ appreciation for high fashion and excessive drinking, looking at you, mint julep! \n",
    "+ gambling addiction(s) -- typically in addition to the first two categories...\n",
    "\n",
    "Having grown up around horses and going so far as to becoming an track certified exercise rider in high school, I wondered if my sucess betting on the ponies was related to my insider knowledge or if I was playing a pretty sucessful, but wild game of chance?\n",
    "\n",
    "This is my exploration into answering that question."
   ]
  },
  {
   "cell_type": "markdown",
   "metadata": {},
   "source": [
    "## Data\n",
    "<a id=\"data\"> </a>"
   ]
  },
  {
   "cell_type": "markdown",
   "metadata": {},
   "source": [
    "I wanted to explore horse racing data to determine whether or not"
   ]
  },
  {
   "cell_type": "code",
   "execution_count": null,
   "metadata": {},
   "outputs": [],
   "source": []
  },
  {
   "cell_type": "markdown",
   "metadata": {},
   "source": [
    "### Pipeline\n",
    "<a id=\"pipeline\"> </a>"
   ]
  },
  {
   "cell_type": "markdown",
   "metadata": {},
   "source": [
    "Where I got the data:\n",
    "\n",
    "+ Kaggle.com: Horse Racing in Hong Kong: https://www.kaggle.com/gdaley/hkracing#runs.csv\n",
    "\n",
    "The data includes racing information from the two racetrack venues in Hong Kong. The data primarily was collected from from the Hong Kong Jockey Club website related to race data between June 1997 and June 2005. It contains data for 6,047 race events specifically for thoroughbred horses (this is important as it is a specific nationally recognized sport) and 4,280 unique, registered horses.\n",
    "\n",
    "This dataset includes two csv files:\n",
    "\n",
    "+ Races\n",
    "+ Runs\n",
    "\n",
    "I used python to import them, specifically the pandas library, and grouped them into dataframes. I proceeded to do all my calculations and tests within python deploying various libraries including scipy, matplotlib, seaborn, and numpy."
   ]
  },
  {
   "cell_type": "markdown",
   "metadata": {},
   "source": []
  },
  {
   "cell_type": "markdown",
   "metadata": {},
   "source": [
    "### Feature Exploration\n",
    "<a id=\"explore\"> </a>"
   ]
  },
  {
   "cell_type": "code",
   "execution_count": null,
   "metadata": {},
   "outputs": [],
   "source": []
  },
  {
   "cell_type": "code",
   "execution_count": null,
   "metadata": {},
   "outputs": [],
   "source": []
  },
  {
   "cell_type": "code",
   "execution_count": null,
   "metadata": {},
   "outputs": [],
   "source": []
  },
  {
   "cell_type": "markdown",
   "metadata": {},
   "source": []
  },
  {
   "cell_type": "markdown",
   "metadata": {},
   "source": [
    "### Evidence for Motivation\n",
    "<a id=\"moto\"> </a>"
   ]
  },
  {
   "cell_type": "markdown",
   "metadata": {},
   "source": []
  },
  {
   "cell_type": "markdown",
   "metadata": {},
   "source": []
  },
  {
   "cell_type": "markdown",
   "metadata": {},
   "source": [
    "## Hypothesis Testing\n",
    "<a id=\"hypo\"> </a>"
   ]
  },
  {
   "cell_type": "markdown",
   "metadata": {},
   "source": [
    "### Set-up\n",
    "<a id=\"setup\"> </a>"
   ]
  },
  {
   "cell_type": "markdown",
   "metadata": {},
   "source": []
  },
  {
   "cell_type": "markdown",
   "metadata": {},
   "source": []
  },
  {
   "cell_type": "code",
   "execution_count": null,
   "metadata": {},
   "outputs": [],
   "source": []
  },
  {
   "cell_type": "markdown",
   "metadata": {},
   "source": [
    "My null hypothesis is that the venue (Happy Valley or  will have no impact on the horse's average speed over a 100m distance.\n",
    "\n",
    "My alternative hypothesis is that the surface type will have an impact on the horse's average speed over a 100m distance"
   ]
  },
  {
   "cell_type": "markdown",
   "metadata": {},
   "source": []
  },
  {
   "cell_type": "markdown",
   "metadata": {},
   "source": []
  },
  {
   "cell_type": "markdown",
   "metadata": {},
   "source": [
    "### Pvalues -- how to calculate\n",
    "<a id=\"data\"> </a>"
   ]
  },
  {
   "cell_type": "markdown",
   "metadata": {},
   "source": []
  },
  {
   "cell_type": "markdown",
   "metadata": {},
   "source": []
  },
  {
   "cell_type": "markdown",
   "metadata": {},
   "source": []
  },
  {
   "cell_type": "markdown",
   "metadata": {},
   "source": []
  },
  {
   "cell_type": "markdown",
   "metadata": {},
   "source": [
    "## Conclusion\n",
    "<a id=\"conclude\"> </a>"
   ]
  },
  {
   "cell_type": "markdown",
   "metadata": {},
   "source": []
  },
  {
   "cell_type": "markdown",
   "metadata": {},
   "source": []
  }
 ],
 "metadata": {
  "kernelspec": {
   "display_name": "Python 3",
   "language": "python",
   "name": "python3"
  },
  "language_info": {
   "codemirror_mode": {
    "name": "ipython",
    "version": 3
   },
   "file_extension": ".py",
   "mimetype": "text/x-python",
   "name": "python",
   "nbconvert_exporter": "python",
   "pygments_lexer": "ipython3",
   "version": "3.7.4"
  },
  "toc": {
   "base_numbering": 1,
   "nav_menu": {},
   "number_sections": true,
   "sideBar": true,
   "skip_h1_title": false,
   "title_cell": "Table of Contents",
   "title_sidebar": "Contents",
   "toc_cell": false,
   "toc_position": {},
   "toc_section_display": true,
   "toc_window_display": false
  }
 },
 "nbformat": 4,
 "nbformat_minor": 4
}
