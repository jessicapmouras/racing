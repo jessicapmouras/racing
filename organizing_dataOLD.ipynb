{
 "cells": [
  {
   "cell_type": "code",
   "execution_count": null,
   "metadata": {},
   "outputs": [],
   "source": [
    "%matplotlib inline\n",
    "import math\n",
    "import pandas as pd\n",
    "import numpy as np\n",
    "import seaborn as sns\n",
    "import scipy as stats\n",
    "import matplotlib.pyplot as plt\n",
    "from scipy import stats\n",
    "from statsmodels.stats.power import TTestIndPower\n"
   ]
  },
  {
   "cell_type": "code",
   "execution_count": null,
   "metadata": {},
   "outputs": [],
   "source": [
    "#helper function group jockey weights into 10 groups of 3 lbs\n",
    "\n",
    "def group_jockweight(row):\n",
    "    if row['actual_weight'] >= 130:\n",
    "        return \"10_class\"\n",
    "    if row['actual_weight'] < 130 and row['actual_weight'] >= 127:\n",
    "        return \"9_class\"\n",
    "    if row['actual_weight'] < 127 and row['actual_weight'] >= 124:\n",
    "        return \"8_class\"\n",
    "    if row['actual_weight'] < 124 and row['actual_weight'] >= 121:\n",
    "        return \"7_class\"\n",
    "    if row['actual_weight'] < 121 and row['actual_weight'] >= 118:\n",
    "        return \"6_class\"\n",
    "    if row['actual_weight'] < 118 and row['actual_weight'] >= 115:\n",
    "        return \"5_class\"\n",
    "    if row['actual_weight'] < 115 and row['actual_weight'] >= 112:\n",
    "        return \"4_class\"\n",
    "    if row['actual_weight'] < 112 and row['actual_weight'] >= 109:\n",
    "        return \"3_class\"\n",
    "    if row['actual_weight'] < 109 and row['actual_weight'] >= 106:\n",
    "        return \"2_class\"\n",
    "    if row['actual_weight'] < 106 and row['actual_weight'] >= 103:\n",
    "        return \"1_class\"\n",
    "    return \"other\"\n"
   ]
  },
  {
   "cell_type": "code",
   "execution_count": null,
   "metadata": {},
   "outputs": [],
   "source": [
    "#helper function group jockey weights into 8 groups of 100 lbs\n",
    "\n",
    "def group_horseweight(row):\n",
    "    if row['declared_weight'] >= 1350:\n",
    "        return \"8_class\"\n",
    "    if row['declared_weight'] < 1350 and row['declared_weight'] >= 1250:\n",
    "        return \"7_class\"\n",
    "    if row['declared_weight'] < 1250 and row['declared_weight'] >= 1150:\n",
    "        return \"6_class\"\n",
    "    if row['declared_weight'] < 1150 and row['declared_weight'] >= 1050:\n",
    "        return \"5_class\"\n",
    "    if row['declared_weight'] < 1050 and row['declared_weight'] >= 950:\n",
    "        return \"4_class\"\n",
    "    if row['declared_weight'] < 950 and row['declared_weight'] >= 850:\n",
    "        return \"3_class\"\n",
    "    if row['declared_weight'] < 850 and row['declared_weight'] >= 750:\n",
    "        return \"2_class\"\n",
    "    if row['declared_weight'] < 750 and row['declared_weight'] >= 650:\n",
    "        return \"1_class\"\n",
    "    return \"other\""
   ]
  },
  {
   "cell_type": "code",
   "execution_count": null,
   "metadata": {},
   "outputs": [],
   "source": [
    "# Welsh's t-test Helper Function\n",
    "def welch_test_statistic(sample_1, sample_2):\n",
    "    numerator = np.mean(sample_1) - np.mean(sample_2)\n",
    "    denominator_sq = (np.var(sample_1) / len(sample_1)) + \\\n",
    "                        (np.var(sample_2) / len(sample_2))\n",
    "    return numerator / np.sqrt(denominator_sq)"
   ]
  },
  {
   "cell_type": "code",
   "execution_count": null,
   "metadata": {},
   "outputs": [],
   "source": [
    "\n",
    "def welch_satterhwaithe_df(samp_1, samp_2):\n",
    "    ss1 = len(samp_1)\n",
    "    ss2 = len(samp_2)\n",
    "    df = (((np.var(samp_1)/ss1 + np.var(samp_2)/ss2)**(2.0)) / \n",
    "        ((np.var(samp_1)/ss1)**(2.0)/(ss1 - 1)\n",
    "         + (np.var(samp_2)/ss2)**(2.0)/(ss2 - 1)))\n",
    "    return df"
   ]
  },
  {
   "cell_type": "code",
   "execution_count": null,
   "metadata": {},
   "outputs": [],
   "source": []
  }
 ],
 "metadata": {
  "kernelspec": {
   "display_name": "Python 3",
   "language": "python",
   "name": "python3"
  },
  "language_info": {
   "codemirror_mode": {
    "name": "ipython",
    "version": 3
   },
   "file_extension": ".py",
   "mimetype": "text/x-python",
   "name": "python",
   "nbconvert_exporter": "python",
   "pygments_lexer": "ipython3",
   "version": "3.7.4"
  },
  "toc": {
   "base_numbering": 1,
   "nav_menu": {},
   "number_sections": false,
   "sideBar": true,
   "skip_h1_title": false,
   "title_cell": "Table of Contents",
   "title_sidebar": "Contents",
   "toc_cell": false,
   "toc_position": {},
   "toc_section_display": true,
   "toc_window_display": true
  }
 },
 "nbformat": 4,
 "nbformat_minor": 4
}
